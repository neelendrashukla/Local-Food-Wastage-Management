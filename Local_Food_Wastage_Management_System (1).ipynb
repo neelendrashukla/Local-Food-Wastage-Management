{
  "cells": [
    {
      "cell_type": "code",
      "execution_count": 94,
      "metadata": {
        "colab": {
          "base_uri": "https://localhost:8080/"
        },
        "id": "lCW4tq2_CZEQ",
        "outputId": "12f53803-9b66-4cac-ad3a-4f2abf10a249"
      },
      "outputs": [
        {
          "output_type": "stream",
          "name": "stdout",
          "text": [
            "Requirement already satisfied: pandas in /usr/local/lib/python3.11/dist-packages (2.2.2)\n",
            "Collecting streamlit\n",
            "  Downloading streamlit-1.48.1-py3-none-any.whl.metadata (9.5 kB)\n",
            "Collecting mysql-connector-python\n",
            "  Downloading mysql_connector_python-9.4.0-cp311-cp311-manylinux_2_28_x86_64.whl.metadata (7.3 kB)\n",
            "Requirement already satisfied: matplotlib in /usr/local/lib/python3.11/dist-packages (3.10.0)\n",
            "Requirement already satisfied: seaborn in /usr/local/lib/python3.11/dist-packages (0.13.2)\n",
            "Requirement already satisfied: numpy>=1.23.2 in /usr/local/lib/python3.11/dist-packages (from pandas) (2.0.2)\n",
            "Requirement already satisfied: python-dateutil>=2.8.2 in /usr/local/lib/python3.11/dist-packages (from pandas) (2.9.0.post0)\n",
            "Requirement already satisfied: pytz>=2020.1 in /usr/local/lib/python3.11/dist-packages (from pandas) (2025.2)\n",
            "Requirement already satisfied: tzdata>=2022.7 in /usr/local/lib/python3.11/dist-packages (from pandas) (2025.2)\n",
            "Requirement already satisfied: altair!=5.4.0,!=5.4.1,<6,>=4.0 in /usr/local/lib/python3.11/dist-packages (from streamlit) (5.5.0)\n",
            "Requirement already satisfied: blinker<2,>=1.5.0 in /usr/local/lib/python3.11/dist-packages (from streamlit) (1.9.0)\n",
            "Requirement already satisfied: cachetools<7,>=4.0 in /usr/local/lib/python3.11/dist-packages (from streamlit) (5.5.2)\n",
            "Requirement already satisfied: click<9,>=7.0 in /usr/local/lib/python3.11/dist-packages (from streamlit) (8.2.1)\n",
            "Requirement already satisfied: packaging<26,>=20 in /usr/local/lib/python3.11/dist-packages (from streamlit) (25.0)\n",
            "Requirement already satisfied: pillow<12,>=7.1.0 in /usr/local/lib/python3.11/dist-packages (from streamlit) (11.3.0)\n",
            "Requirement already satisfied: protobuf<7,>=3.20 in /usr/local/lib/python3.11/dist-packages (from streamlit) (5.29.5)\n",
            "Requirement already satisfied: pyarrow>=7.0 in /usr/local/lib/python3.11/dist-packages (from streamlit) (18.1.0)\n",
            "Requirement already satisfied: requests<3,>=2.27 in /usr/local/lib/python3.11/dist-packages (from streamlit) (2.32.3)\n",
            "Requirement already satisfied: tenacity<10,>=8.1.0 in /usr/local/lib/python3.11/dist-packages (from streamlit) (9.1.2)\n",
            "Requirement already satisfied: toml<2,>=0.10.1 in /usr/local/lib/python3.11/dist-packages (from streamlit) (0.10.2)\n",
            "Requirement already satisfied: typing-extensions<5,>=4.4.0 in /usr/local/lib/python3.11/dist-packages (from streamlit) (4.14.1)\n",
            "Collecting watchdog<7,>=2.1.5 (from streamlit)\n",
            "  Downloading watchdog-6.0.0-py3-none-manylinux2014_x86_64.whl.metadata (44 kB)\n",
            "\u001b[2K     \u001b[90m━━━━━━━━━━━━━━━━━━━━━━━━━━━━━━━━━━━━━━━━\u001b[0m \u001b[32m44.3/44.3 kB\u001b[0m \u001b[31m1.6 MB/s\u001b[0m eta \u001b[36m0:00:00\u001b[0m\n",
            "\u001b[?25hRequirement already satisfied: gitpython!=3.1.19,<4,>=3.0.7 in /usr/local/lib/python3.11/dist-packages (from streamlit) (3.1.45)\n",
            "Collecting pydeck<1,>=0.8.0b4 (from streamlit)\n",
            "  Downloading pydeck-0.9.1-py2.py3-none-any.whl.metadata (4.1 kB)\n",
            "Requirement already satisfied: tornado!=6.5.0,<7,>=6.0.3 in /usr/local/lib/python3.11/dist-packages (from streamlit) (6.4.2)\n",
            "Requirement already satisfied: contourpy>=1.0.1 in /usr/local/lib/python3.11/dist-packages (from matplotlib) (1.3.3)\n",
            "Requirement already satisfied: cycler>=0.10 in /usr/local/lib/python3.11/dist-packages (from matplotlib) (0.12.1)\n",
            "Requirement already satisfied: fonttools>=4.22.0 in /usr/local/lib/python3.11/dist-packages (from matplotlib) (4.59.0)\n",
            "Requirement already satisfied: kiwisolver>=1.3.1 in /usr/local/lib/python3.11/dist-packages (from matplotlib) (1.4.9)\n",
            "Requirement already satisfied: pyparsing>=2.3.1 in /usr/local/lib/python3.11/dist-packages (from matplotlib) (3.2.3)\n",
            "Requirement already satisfied: jinja2 in /usr/local/lib/python3.11/dist-packages (from altair!=5.4.0,!=5.4.1,<6,>=4.0->streamlit) (3.1.6)\n",
            "Requirement already satisfied: jsonschema>=3.0 in /usr/local/lib/python3.11/dist-packages (from altair!=5.4.0,!=5.4.1,<6,>=4.0->streamlit) (4.25.0)\n",
            "Requirement already satisfied: narwhals>=1.14.2 in /usr/local/lib/python3.11/dist-packages (from altair!=5.4.0,!=5.4.1,<6,>=4.0->streamlit) (2.1.0)\n",
            "Requirement already satisfied: gitdb<5,>=4.0.1 in /usr/local/lib/python3.11/dist-packages (from gitpython!=3.1.19,<4,>=3.0.7->streamlit) (4.0.12)\n",
            "Requirement already satisfied: six>=1.5 in /usr/local/lib/python3.11/dist-packages (from python-dateutil>=2.8.2->pandas) (1.17.0)\n",
            "Requirement already satisfied: charset-normalizer<4,>=2 in /usr/local/lib/python3.11/dist-packages (from requests<3,>=2.27->streamlit) (3.4.3)\n",
            "Requirement already satisfied: idna<4,>=2.5 in /usr/local/lib/python3.11/dist-packages (from requests<3,>=2.27->streamlit) (3.10)\n",
            "Requirement already satisfied: urllib3<3,>=1.21.1 in /usr/local/lib/python3.11/dist-packages (from requests<3,>=2.27->streamlit) (2.5.0)\n",
            "Requirement already satisfied: certifi>=2017.4.17 in /usr/local/lib/python3.11/dist-packages (from requests<3,>=2.27->streamlit) (2025.8.3)\n",
            "Requirement already satisfied: smmap<6,>=3.0.1 in /usr/local/lib/python3.11/dist-packages (from gitdb<5,>=4.0.1->gitpython!=3.1.19,<4,>=3.0.7->streamlit) (5.0.2)\n",
            "Requirement already satisfied: MarkupSafe>=2.0 in /usr/local/lib/python3.11/dist-packages (from jinja2->altair!=5.4.0,!=5.4.1,<6,>=4.0->streamlit) (3.0.2)\n",
            "Requirement already satisfied: attrs>=22.2.0 in /usr/local/lib/python3.11/dist-packages (from jsonschema>=3.0->altair!=5.4.0,!=5.4.1,<6,>=4.0->streamlit) (25.3.0)\n",
            "Requirement already satisfied: jsonschema-specifications>=2023.03.6 in /usr/local/lib/python3.11/dist-packages (from jsonschema>=3.0->altair!=5.4.0,!=5.4.1,<6,>=4.0->streamlit) (2025.4.1)\n",
            "Requirement already satisfied: referencing>=0.28.4 in /usr/local/lib/python3.11/dist-packages (from jsonschema>=3.0->altair!=5.4.0,!=5.4.1,<6,>=4.0->streamlit) (0.36.2)\n",
            "Requirement already satisfied: rpds-py>=0.7.1 in /usr/local/lib/python3.11/dist-packages (from jsonschema>=3.0->altair!=5.4.0,!=5.4.1,<6,>=4.0->streamlit) (0.27.0)\n",
            "Downloading streamlit-1.48.1-py3-none-any.whl (9.9 MB)\n",
            "\u001b[2K   \u001b[90m━━━━━━━━━━━━━━━━━━━━━━━━━━━━━━━━━━━━━━━━\u001b[0m \u001b[32m9.9/9.9 MB\u001b[0m \u001b[31m54.1 MB/s\u001b[0m eta \u001b[36m0:00:00\u001b[0m\n",
            "\u001b[?25hDownloading mysql_connector_python-9.4.0-cp311-cp311-manylinux_2_28_x86_64.whl (33.9 MB)\n",
            "\u001b[2K   \u001b[90m━━━━━━━━━━━━━━━━━━━━━━━━━━━━━━━━━━━━━━━━\u001b[0m \u001b[32m33.9/33.9 MB\u001b[0m \u001b[31m43.1 MB/s\u001b[0m eta \u001b[36m0:00:00\u001b[0m\n",
            "\u001b[?25hDownloading pydeck-0.9.1-py2.py3-none-any.whl (6.9 MB)\n",
            "\u001b[2K   \u001b[90m━━━━━━━━━━━━━━━━━━━━━━━━━━━━━━━━━━━━━━━━\u001b[0m \u001b[32m6.9/6.9 MB\u001b[0m \u001b[31m79.7 MB/s\u001b[0m eta \u001b[36m0:00:00\u001b[0m\n",
            "\u001b[?25hDownloading watchdog-6.0.0-py3-none-manylinux2014_x86_64.whl (79 kB)\n",
            "\u001b[2K   \u001b[90m━━━━━━━━━━━━━━━━━━━━━━━━━━━━━━━━━━━━━━━━\u001b[0m \u001b[32m79.1/79.1 kB\u001b[0m \u001b[31m7.9 MB/s\u001b[0m eta \u001b[36m0:00:00\u001b[0m\n",
            "\u001b[?25hInstalling collected packages: watchdog, mysql-connector-python, pydeck, streamlit\n",
            "Successfully installed mysql-connector-python-9.4.0 pydeck-0.9.1 streamlit-1.48.1 watchdog-6.0.0\n"
          ]
        }
      ],
      "source": [
        "pip install pandas streamlit mysql-connector-python matplotlib seaborn"
      ]
    },
    {
      "cell_type": "code",
      "execution_count": 1,
      "metadata": {
        "id": "xmkBYpBTF4qr"
      },
      "outputs": [],
      "source": [
        "# Import libraries\n",
        "import pandas as pd\n",
        "import sqlite3"
      ]
    },
    {
      "cell_type": "code",
      "execution_count": 2,
      "metadata": {
        "colab": {
          "base_uri": "https://localhost:8080/"
        },
        "id": "6FTKfJd-GZwK",
        "outputId": "b9d4c136-fa76-4cd1-f179-7fe631ec425e"
      },
      "outputs": [
        {
          "output_type": "stream",
          "name": "stdout",
          "text": [
            "Connected to SQLite database!\n"
          ]
        }
      ],
      "source": [
        "# connect to SQLite database\n",
        "conn = sqlite3.connect('food_wastage_system.db')\n",
        "cursor = conn.cursor()\n",
        "print(\"Connected to SQLite database!\")"
      ]
    },
    {
      "cell_type": "code",
      "execution_count": 3,
      "metadata": {
        "colab": {
          "base_uri": "https://localhost:8080/"
        },
        "id": "5lKA0jEqGd29",
        "outputId": "651611b1-5666-4dc1-eec7-9c63519637f0"
      },
      "outputs": [
        {
          "output_type": "stream",
          "name": "stdout",
          "text": [
            "Mounted at /content/drive\n"
          ]
        }
      ],
      "source": [
        "from google.colab import drive\n",
        "drive.mount('/content/drive')"
      ]
    },
    {
      "cell_type": "code",
      "execution_count": 4,
      "metadata": {
        "colab": {
          "base_uri": "https://localhost:8080/"
        },
        "id": "jFNsjwGKG5J0",
        "outputId": "610af1ea-5baf-46bf-a2db-95231ee2d5e6"
      },
      "outputs": [
        {
          "output_type": "stream",
          "name": "stdout",
          "text": [
            "Datasets loaded successfully!\n"
          ]
        }
      ],
      "source": [
        "# Load datasets\n",
        "providers = pd.read_csv('/content/drive/MyDrive/providers_data.csv')\n",
        "receivers = pd.read_csv('/content/drive/MyDrive/receivers_data.csv')\n",
        "food_listings = pd.read_csv('/content/drive/MyDrive/food_listings_data.csv')\n",
        "claims = pd.read_csv('/content/drive/MyDrive/claims_data.csv')\n",
        "print(\"Datasets loaded successfully!\")"
      ]
    },
    {
      "cell_type": "code",
      "execution_count": 5,
      "metadata": {
        "colab": {
          "base_uri": "https://localhost:8080/",
          "height": 423
        },
        "id": "W9D4Kbc-eWvX",
        "outputId": "b31af047-262c-466a-80ab-380877fa3405"
      },
      "outputs": [
        {
          "output_type": "execute_result",
          "data": {
            "text/plain": [
              "     Provider_ID                         Name              Type  \\\n",
              "0              1             Gonzales-Cochran       Supermarket   \n",
              "1              2  Nielsen, Johnson and Fuller     Grocery Store   \n",
              "2              3                 Miller-Black       Supermarket   \n",
              "3              4   Clark, Prince and Williams     Grocery Store   \n",
              "4              5               Coleman-Farley     Grocery Store   \n",
              "..           ...                          ...               ...   \n",
              "995          996    Vasquez, Ruiz and Flowers        Restaurant   \n",
              "996          997               Garza-Williams  Catering Service   \n",
              "997          998                  Novak Group     Grocery Store   \n",
              "998          999                    Moody Ltd     Grocery Store   \n",
              "999         1000               Jenkins-Brooks        Restaurant   \n",
              "\n",
              "                                               Address            City  \\\n",
              "0    74347 Christopher Extensions\\nAndreamouth, OK ...     New Jessica   \n",
              "1             91228 Hanson Stream\\nWelchtown, OR 27136     East Sheena   \n",
              "2    561 Martinez Point Suite 507\\nGuzmanchester, W...  Lake Jesusview   \n",
              "3       467 Bell Trail Suite 409\\nPort Jesus, IA 61188     Mendezmouth   \n",
              "4    078 Matthew Creek Apt. 319\\nSaraborough, MA 53978   Valentineside   \n",
              "..                                                 ...             ...   \n",
              "995    84308 Justin Stravenue\\nNew Amberside, NE 53447     Williamview   \n",
              "996  08864 Figueroa Radial Suite 948\\nJennaberg, AZ...   East Rossside   \n",
              "997            934 Zachary Run\\nMelissamouth, WY 02729      Joshuastad   \n",
              "998    17580 Ernest Hills\\nLake Michaelmouth, OR 56416   Stevenchester   \n",
              "999  53390 Evans Rapids Suite 982\\nLake Meghan, MO ...     Brendantown   \n",
              "\n",
              "                  Contact  \n",
              "0         +1-600-220-0480  \n",
              "1    +1-925-283-8901x6297  \n",
              "2        001-517-295-2206  \n",
              "3        556.944.8935x401  \n",
              "4            193.714.6577  \n",
              "..                    ...  \n",
              "995  +1-319-378-7627x0682  \n",
              "996  001-924-441-3963x746  \n",
              "997    (903)642-1969x3300  \n",
              "998     637.300.3664x4880  \n",
              "999    266-324-3458x95775  \n",
              "\n",
              "[1000 rows x 6 columns]"
            ],
            "text/html": [
              "\n",
              "  <div id=\"df-199ef64f-778a-43a6-8d4c-128022f8b271\" class=\"colab-df-container\">\n",
              "    <div>\n",
              "<style scoped>\n",
              "    .dataframe tbody tr th:only-of-type {\n",
              "        vertical-align: middle;\n",
              "    }\n",
              "\n",
              "    .dataframe tbody tr th {\n",
              "        vertical-align: top;\n",
              "    }\n",
              "\n",
              "    .dataframe thead th {\n",
              "        text-align: right;\n",
              "    }\n",
              "</style>\n",
              "<table border=\"1\" class=\"dataframe\">\n",
              "  <thead>\n",
              "    <tr style=\"text-align: right;\">\n",
              "      <th></th>\n",
              "      <th>Provider_ID</th>\n",
              "      <th>Name</th>\n",
              "      <th>Type</th>\n",
              "      <th>Address</th>\n",
              "      <th>City</th>\n",
              "      <th>Contact</th>\n",
              "    </tr>\n",
              "  </thead>\n",
              "  <tbody>\n",
              "    <tr>\n",
              "      <th>0</th>\n",
              "      <td>1</td>\n",
              "      <td>Gonzales-Cochran</td>\n",
              "      <td>Supermarket</td>\n",
              "      <td>74347 Christopher Extensions\\nAndreamouth, OK ...</td>\n",
              "      <td>New Jessica</td>\n",
              "      <td>+1-600-220-0480</td>\n",
              "    </tr>\n",
              "    <tr>\n",
              "      <th>1</th>\n",
              "      <td>2</td>\n",
              "      <td>Nielsen, Johnson and Fuller</td>\n",
              "      <td>Grocery Store</td>\n",
              "      <td>91228 Hanson Stream\\nWelchtown, OR 27136</td>\n",
              "      <td>East Sheena</td>\n",
              "      <td>+1-925-283-8901x6297</td>\n",
              "    </tr>\n",
              "    <tr>\n",
              "      <th>2</th>\n",
              "      <td>3</td>\n",
              "      <td>Miller-Black</td>\n",
              "      <td>Supermarket</td>\n",
              "      <td>561 Martinez Point Suite 507\\nGuzmanchester, W...</td>\n",
              "      <td>Lake Jesusview</td>\n",
              "      <td>001-517-295-2206</td>\n",
              "    </tr>\n",
              "    <tr>\n",
              "      <th>3</th>\n",
              "      <td>4</td>\n",
              "      <td>Clark, Prince and Williams</td>\n",
              "      <td>Grocery Store</td>\n",
              "      <td>467 Bell Trail Suite 409\\nPort Jesus, IA 61188</td>\n",
              "      <td>Mendezmouth</td>\n",
              "      <td>556.944.8935x401</td>\n",
              "    </tr>\n",
              "    <tr>\n",
              "      <th>4</th>\n",
              "      <td>5</td>\n",
              "      <td>Coleman-Farley</td>\n",
              "      <td>Grocery Store</td>\n",
              "      <td>078 Matthew Creek Apt. 319\\nSaraborough, MA 53978</td>\n",
              "      <td>Valentineside</td>\n",
              "      <td>193.714.6577</td>\n",
              "    </tr>\n",
              "    <tr>\n",
              "      <th>...</th>\n",
              "      <td>...</td>\n",
              "      <td>...</td>\n",
              "      <td>...</td>\n",
              "      <td>...</td>\n",
              "      <td>...</td>\n",
              "      <td>...</td>\n",
              "    </tr>\n",
              "    <tr>\n",
              "      <th>995</th>\n",
              "      <td>996</td>\n",
              "      <td>Vasquez, Ruiz and Flowers</td>\n",
              "      <td>Restaurant</td>\n",
              "      <td>84308 Justin Stravenue\\nNew Amberside, NE 53447</td>\n",
              "      <td>Williamview</td>\n",
              "      <td>+1-319-378-7627x0682</td>\n",
              "    </tr>\n",
              "    <tr>\n",
              "      <th>996</th>\n",
              "      <td>997</td>\n",
              "      <td>Garza-Williams</td>\n",
              "      <td>Catering Service</td>\n",
              "      <td>08864 Figueroa Radial Suite 948\\nJennaberg, AZ...</td>\n",
              "      <td>East Rossside</td>\n",
              "      <td>001-924-441-3963x746</td>\n",
              "    </tr>\n",
              "    <tr>\n",
              "      <th>997</th>\n",
              "      <td>998</td>\n",
              "      <td>Novak Group</td>\n",
              "      <td>Grocery Store</td>\n",
              "      <td>934 Zachary Run\\nMelissamouth, WY 02729</td>\n",
              "      <td>Joshuastad</td>\n",
              "      <td>(903)642-1969x3300</td>\n",
              "    </tr>\n",
              "    <tr>\n",
              "      <th>998</th>\n",
              "      <td>999</td>\n",
              "      <td>Moody Ltd</td>\n",
              "      <td>Grocery Store</td>\n",
              "      <td>17580 Ernest Hills\\nLake Michaelmouth, OR 56416</td>\n",
              "      <td>Stevenchester</td>\n",
              "      <td>637.300.3664x4880</td>\n",
              "    </tr>\n",
              "    <tr>\n",
              "      <th>999</th>\n",
              "      <td>1000</td>\n",
              "      <td>Jenkins-Brooks</td>\n",
              "      <td>Restaurant</td>\n",
              "      <td>53390 Evans Rapids Suite 982\\nLake Meghan, MO ...</td>\n",
              "      <td>Brendantown</td>\n",
              "      <td>266-324-3458x95775</td>\n",
              "    </tr>\n",
              "  </tbody>\n",
              "</table>\n",
              "<p>1000 rows × 6 columns</p>\n",
              "</div>\n",
              "    <div class=\"colab-df-buttons\">\n",
              "\n",
              "  <div class=\"colab-df-container\">\n",
              "    <button class=\"colab-df-convert\" onclick=\"convertToInteractive('df-199ef64f-778a-43a6-8d4c-128022f8b271')\"\n",
              "            title=\"Convert this dataframe to an interactive table.\"\n",
              "            style=\"display:none;\">\n",
              "\n",
              "  <svg xmlns=\"http://www.w3.org/2000/svg\" height=\"24px\" viewBox=\"0 -960 960 960\">\n",
              "    <path d=\"M120-120v-720h720v720H120Zm60-500h600v-160H180v160Zm220 220h160v-160H400v160Zm0 220h160v-160H400v160ZM180-400h160v-160H180v160Zm440 0h160v-160H620v160ZM180-180h160v-160H180v160Zm440 0h160v-160H620v160Z\"/>\n",
              "  </svg>\n",
              "    </button>\n",
              "\n",
              "  <style>\n",
              "    .colab-df-container {\n",
              "      display:flex;\n",
              "      gap: 12px;\n",
              "    }\n",
              "\n",
              "    .colab-df-convert {\n",
              "      background-color: #E8F0FE;\n",
              "      border: none;\n",
              "      border-radius: 50%;\n",
              "      cursor: pointer;\n",
              "      display: none;\n",
              "      fill: #1967D2;\n",
              "      height: 32px;\n",
              "      padding: 0 0 0 0;\n",
              "      width: 32px;\n",
              "    }\n",
              "\n",
              "    .colab-df-convert:hover {\n",
              "      background-color: #E2EBFA;\n",
              "      box-shadow: 0px 1px 2px rgba(60, 64, 67, 0.3), 0px 1px 3px 1px rgba(60, 64, 67, 0.15);\n",
              "      fill: #174EA6;\n",
              "    }\n",
              "\n",
              "    .colab-df-buttons div {\n",
              "      margin-bottom: 4px;\n",
              "    }\n",
              "\n",
              "    [theme=dark] .colab-df-convert {\n",
              "      background-color: #3B4455;\n",
              "      fill: #D2E3FC;\n",
              "    }\n",
              "\n",
              "    [theme=dark] .colab-df-convert:hover {\n",
              "      background-color: #434B5C;\n",
              "      box-shadow: 0px 1px 3px 1px rgba(0, 0, 0, 0.15);\n",
              "      filter: drop-shadow(0px 1px 2px rgba(0, 0, 0, 0.3));\n",
              "      fill: #FFFFFF;\n",
              "    }\n",
              "  </style>\n",
              "\n",
              "    <script>\n",
              "      const buttonEl =\n",
              "        document.querySelector('#df-199ef64f-778a-43a6-8d4c-128022f8b271 button.colab-df-convert');\n",
              "      buttonEl.style.display =\n",
              "        google.colab.kernel.accessAllowed ? 'block' : 'none';\n",
              "\n",
              "      async function convertToInteractive(key) {\n",
              "        const element = document.querySelector('#df-199ef64f-778a-43a6-8d4c-128022f8b271');\n",
              "        const dataTable =\n",
              "          await google.colab.kernel.invokeFunction('convertToInteractive',\n",
              "                                                    [key], {});\n",
              "        if (!dataTable) return;\n",
              "\n",
              "        const docLinkHtml = 'Like what you see? Visit the ' +\n",
              "          '<a target=\"_blank\" href=https://colab.research.google.com/notebooks/data_table.ipynb>data table notebook</a>'\n",
              "          + ' to learn more about interactive tables.';\n",
              "        element.innerHTML = '';\n",
              "        dataTable['output_type'] = 'display_data';\n",
              "        await google.colab.output.renderOutput(dataTable, element);\n",
              "        const docLink = document.createElement('div');\n",
              "        docLink.innerHTML = docLinkHtml;\n",
              "        element.appendChild(docLink);\n",
              "      }\n",
              "    </script>\n",
              "  </div>\n",
              "\n",
              "\n",
              "    <div id=\"df-e338f5f6-2ca3-456f-b1b7-bf880d12dc99\">\n",
              "      <button class=\"colab-df-quickchart\" onclick=\"quickchart('df-e338f5f6-2ca3-456f-b1b7-bf880d12dc99')\"\n",
              "                title=\"Suggest charts\"\n",
              "                style=\"display:none;\">\n",
              "\n",
              "<svg xmlns=\"http://www.w3.org/2000/svg\" height=\"24px\"viewBox=\"0 0 24 24\"\n",
              "     width=\"24px\">\n",
              "    <g>\n",
              "        <path d=\"M19 3H5c-1.1 0-2 .9-2 2v14c0 1.1.9 2 2 2h14c1.1 0 2-.9 2-2V5c0-1.1-.9-2-2-2zM9 17H7v-7h2v7zm4 0h-2V7h2v10zm4 0h-2v-4h2v4z\"/>\n",
              "    </g>\n",
              "</svg>\n",
              "      </button>\n",
              "\n",
              "<style>\n",
              "  .colab-df-quickchart {\n",
              "      --bg-color: #E8F0FE;\n",
              "      --fill-color: #1967D2;\n",
              "      --hover-bg-color: #E2EBFA;\n",
              "      --hover-fill-color: #174EA6;\n",
              "      --disabled-fill-color: #AAA;\n",
              "      --disabled-bg-color: #DDD;\n",
              "  }\n",
              "\n",
              "  [theme=dark] .colab-df-quickchart {\n",
              "      --bg-color: #3B4455;\n",
              "      --fill-color: #D2E3FC;\n",
              "      --hover-bg-color: #434B5C;\n",
              "      --hover-fill-color: #FFFFFF;\n",
              "      --disabled-bg-color: #3B4455;\n",
              "      --disabled-fill-color: #666;\n",
              "  }\n",
              "\n",
              "  .colab-df-quickchart {\n",
              "    background-color: var(--bg-color);\n",
              "    border: none;\n",
              "    border-radius: 50%;\n",
              "    cursor: pointer;\n",
              "    display: none;\n",
              "    fill: var(--fill-color);\n",
              "    height: 32px;\n",
              "    padding: 0;\n",
              "    width: 32px;\n",
              "  }\n",
              "\n",
              "  .colab-df-quickchart:hover {\n",
              "    background-color: var(--hover-bg-color);\n",
              "    box-shadow: 0 1px 2px rgba(60, 64, 67, 0.3), 0 1px 3px 1px rgba(60, 64, 67, 0.15);\n",
              "    fill: var(--button-hover-fill-color);\n",
              "  }\n",
              "\n",
              "  .colab-df-quickchart-complete:disabled,\n",
              "  .colab-df-quickchart-complete:disabled:hover {\n",
              "    background-color: var(--disabled-bg-color);\n",
              "    fill: var(--disabled-fill-color);\n",
              "    box-shadow: none;\n",
              "  }\n",
              "\n",
              "  .colab-df-spinner {\n",
              "    border: 2px solid var(--fill-color);\n",
              "    border-color: transparent;\n",
              "    border-bottom-color: var(--fill-color);\n",
              "    animation:\n",
              "      spin 1s steps(1) infinite;\n",
              "  }\n",
              "\n",
              "  @keyframes spin {\n",
              "    0% {\n",
              "      border-color: transparent;\n",
              "      border-bottom-color: var(--fill-color);\n",
              "      border-left-color: var(--fill-color);\n",
              "    }\n",
              "    20% {\n",
              "      border-color: transparent;\n",
              "      border-left-color: var(--fill-color);\n",
              "      border-top-color: var(--fill-color);\n",
              "    }\n",
              "    30% {\n",
              "      border-color: transparent;\n",
              "      border-left-color: var(--fill-color);\n",
              "      border-top-color: var(--fill-color);\n",
              "      border-right-color: var(--fill-color);\n",
              "    }\n",
              "    40% {\n",
              "      border-color: transparent;\n",
              "      border-right-color: var(--fill-color);\n",
              "      border-top-color: var(--fill-color);\n",
              "    }\n",
              "    60% {\n",
              "      border-color: transparent;\n",
              "      border-right-color: var(--fill-color);\n",
              "    }\n",
              "    80% {\n",
              "      border-color: transparent;\n",
              "      border-right-color: var(--fill-color);\n",
              "      border-bottom-color: var(--fill-color);\n",
              "    }\n",
              "    90% {\n",
              "      border-color: transparent;\n",
              "      border-bottom-color: var(--fill-color);\n",
              "    }\n",
              "  }\n",
              "</style>\n",
              "\n",
              "      <script>\n",
              "        async function quickchart(key) {\n",
              "          const quickchartButtonEl =\n",
              "            document.querySelector('#' + key + ' button');\n",
              "          quickchartButtonEl.disabled = true;  // To prevent multiple clicks.\n",
              "          quickchartButtonEl.classList.add('colab-df-spinner');\n",
              "          try {\n",
              "            const charts = await google.colab.kernel.invokeFunction(\n",
              "                'suggestCharts', [key], {});\n",
              "          } catch (error) {\n",
              "            console.error('Error during call to suggestCharts:', error);\n",
              "          }\n",
              "          quickchartButtonEl.classList.remove('colab-df-spinner');\n",
              "          quickchartButtonEl.classList.add('colab-df-quickchart-complete');\n",
              "        }\n",
              "        (() => {\n",
              "          let quickchartButtonEl =\n",
              "            document.querySelector('#df-e338f5f6-2ca3-456f-b1b7-bf880d12dc99 button');\n",
              "          quickchartButtonEl.style.display =\n",
              "            google.colab.kernel.accessAllowed ? 'block' : 'none';\n",
              "        })();\n",
              "      </script>\n",
              "    </div>\n",
              "\n",
              "  <div id=\"id_d120c68a-8344-4d03-b5e8-d86a6400f8e0\">\n",
              "    <style>\n",
              "      .colab-df-generate {\n",
              "        background-color: #E8F0FE;\n",
              "        border: none;\n",
              "        border-radius: 50%;\n",
              "        cursor: pointer;\n",
              "        display: none;\n",
              "        fill: #1967D2;\n",
              "        height: 32px;\n",
              "        padding: 0 0 0 0;\n",
              "        width: 32px;\n",
              "      }\n",
              "\n",
              "      .colab-df-generate:hover {\n",
              "        background-color: #E2EBFA;\n",
              "        box-shadow: 0px 1px 2px rgba(60, 64, 67, 0.3), 0px 1px 3px 1px rgba(60, 64, 67, 0.15);\n",
              "        fill: #174EA6;\n",
              "      }\n",
              "\n",
              "      [theme=dark] .colab-df-generate {\n",
              "        background-color: #3B4455;\n",
              "        fill: #D2E3FC;\n",
              "      }\n",
              "\n",
              "      [theme=dark] .colab-df-generate:hover {\n",
              "        background-color: #434B5C;\n",
              "        box-shadow: 0px 1px 3px 1px rgba(0, 0, 0, 0.15);\n",
              "        filter: drop-shadow(0px 1px 2px rgba(0, 0, 0, 0.3));\n",
              "        fill: #FFFFFF;\n",
              "      }\n",
              "    </style>\n",
              "    <button class=\"colab-df-generate\" onclick=\"generateWithVariable('providers')\"\n",
              "            title=\"Generate code using this dataframe.\"\n",
              "            style=\"display:none;\">\n",
              "\n",
              "  <svg xmlns=\"http://www.w3.org/2000/svg\" height=\"24px\"viewBox=\"0 0 24 24\"\n",
              "       width=\"24px\">\n",
              "    <path d=\"M7,19H8.4L18.45,9,17,7.55,7,17.6ZM5,21V16.75L18.45,3.32a2,2,0,0,1,2.83,0l1.4,1.43a1.91,1.91,0,0,1,.58,1.4,1.91,1.91,0,0,1-.58,1.4L9.25,21ZM18.45,9,17,7.55Zm-12,3A5.31,5.31,0,0,0,4.9,8.1,5.31,5.31,0,0,0,1,6.5,5.31,5.31,0,0,0,4.9,4.9,5.31,5.31,0,0,0,6.5,1,5.31,5.31,0,0,0,8.1,4.9,5.31,5.31,0,0,0,12,6.5,5.46,5.46,0,0,0,6.5,12Z\"/>\n",
              "  </svg>\n",
              "    </button>\n",
              "    <script>\n",
              "      (() => {\n",
              "      const buttonEl =\n",
              "        document.querySelector('#id_d120c68a-8344-4d03-b5e8-d86a6400f8e0 button.colab-df-generate');\n",
              "      buttonEl.style.display =\n",
              "        google.colab.kernel.accessAllowed ? 'block' : 'none';\n",
              "\n",
              "      buttonEl.onclick = () => {\n",
              "        google.colab.notebook.generateWithVariable('providers');\n",
              "      }\n",
              "      })();\n",
              "    </script>\n",
              "  </div>\n",
              "\n",
              "    </div>\n",
              "  </div>\n"
            ],
            "application/vnd.google.colaboratory.intrinsic+json": {
              "type": "dataframe",
              "variable_name": "providers",
              "summary": "{\n  \"name\": \"providers\",\n  \"rows\": 1000,\n  \"fields\": [\n    {\n      \"column\": \"Provider_ID\",\n      \"properties\": {\n        \"dtype\": \"number\",\n        \"std\": 288,\n        \"min\": 1,\n        \"max\": 1000,\n        \"num_unique_values\": 1000,\n        \"samples\": [\n          522,\n          738,\n          741\n        ],\n        \"semantic_type\": \"\",\n        \"description\": \"\"\n      }\n    },\n    {\n      \"column\": \"Name\",\n      \"properties\": {\n        \"dtype\": \"string\",\n        \"num_unique_values\": 973,\n        \"samples\": [\n          \"Graham-Peters\",\n          \"House, James and Miller\",\n          \"Turner-Ramirez\"\n        ],\n        \"semantic_type\": \"\",\n        \"description\": \"\"\n      }\n    },\n    {\n      \"column\": \"Type\",\n      \"properties\": {\n        \"dtype\": \"category\",\n        \"num_unique_values\": 4,\n        \"samples\": [\n          \"Grocery Store\",\n          \"Catering Service\",\n          \"Supermarket\"\n        ],\n        \"semantic_type\": \"\",\n        \"description\": \"\"\n      }\n    },\n    {\n      \"column\": \"Address\",\n      \"properties\": {\n        \"dtype\": \"string\",\n        \"num_unique_values\": 1000,\n        \"samples\": [\n          \"2622 Kimberly Port Suite 775\\nDanielland, NE 08014\",\n          \"1020 Murray Gateway\\nSmithton, HI 44207\",\n          \"Unit 3436 Box 4523\\nDPO AE 51665\"\n        ],\n        \"semantic_type\": \"\",\n        \"description\": \"\"\n      }\n    },\n    {\n      \"column\": \"City\",\n      \"properties\": {\n        \"dtype\": \"string\",\n        \"num_unique_values\": 963,\n        \"samples\": [\n          \"Henrychester\",\n          \"South Stefanietown\",\n          \"Anthonychester\"\n        ],\n        \"semantic_type\": \"\",\n        \"description\": \"\"\n      }\n    },\n    {\n      \"column\": \"Contact\",\n      \"properties\": {\n        \"dtype\": \"string\",\n        \"num_unique_values\": 1000,\n        \"samples\": [\n          \"861.571.1349x26120\",\n          \"167.486.0883\",\n          \"013.181.1620\"\n        ],\n        \"semantic_type\": \"\",\n        \"description\": \"\"\n      }\n    }\n  ]\n}"
            }
          },
          "metadata": {},
          "execution_count": 5
        }
      ],
      "source": [
        "providers"
      ]
    },
    {
      "cell_type": "code",
      "execution_count": 6,
      "metadata": {
        "colab": {
          "base_uri": "https://localhost:8080/"
        },
        "id": "pxoQICz4G56f",
        "outputId": "ede70472-beb0-40bd-abdd-555f76c87a46"
      },
      "outputs": [
        {
          "output_type": "stream",
          "name": "stdout",
          "text": [
            "Providers:\n",
            "    Provider_ID                         Name           Type  \\\n",
            "0            1             Gonzales-Cochran    Supermarket   \n",
            "1            2  Nielsen, Johnson and Fuller  Grocery Store   \n",
            "2            3                 Miller-Black    Supermarket   \n",
            "3            4   Clark, Prince and Williams  Grocery Store   \n",
            "4            5               Coleman-Farley  Grocery Store   \n",
            "\n",
            "                                             Address            City  \\\n",
            "0  74347 Christopher Extensions\\nAndreamouth, OK ...     New Jessica   \n",
            "1           91228 Hanson Stream\\nWelchtown, OR 27136     East Sheena   \n",
            "2  561 Martinez Point Suite 507\\nGuzmanchester, W...  Lake Jesusview   \n",
            "3     467 Bell Trail Suite 409\\nPort Jesus, IA 61188     Mendezmouth   \n",
            "4  078 Matthew Creek Apt. 319\\nSaraborough, MA 53978   Valentineside   \n",
            "\n",
            "                Contact  \n",
            "0       +1-600-220-0480  \n",
            "1  +1-925-283-8901x6297  \n",
            "2      001-517-295-2206  \n",
            "3      556.944.8935x401  \n",
            "4          193.714.6577  \n",
            "\n",
            "Receivers:\n",
            "    Receiver_ID          Name        Type               City           Contact\n",
            "0            1  Donald Gomez     Shelter     Port Carlburgh     (955)922-5295\n",
            "1            2  Laurie Ramos  Individual         Lewisburgh      761.042.1570\n",
            "2            3  Ashley Mckee         NGO  South Randalltown  691-023-0094x856\n",
            "3            4    Erika Rose         NGO   South Shaneville        8296491111\n",
            "4            5   John Romero  Individual          Bakerport      067.491.0154\n",
            "\n",
            "Food Listings:\n",
            "    Food_ID Food_Name  Quantity Expiry_Date  Provider_ID     Provider_Type  \\\n",
            "0        1     Bread        43   3/17/2025          110     Grocery Store   \n",
            "1        2      Soup        22   3/24/2025          791     Grocery Store   \n",
            "2        3    Fruits        46   3/28/2025          478  Catering Service   \n",
            "3        4    Fruits        15   3/16/2025          930        Restaurant   \n",
            "4        5      Soup        14   3/19/2025          279        Restaurant   \n",
            "\n",
            "           Location       Food_Type  Meal_Type  \n",
            "0  South Kellyville  Non-Vegetarian  Breakfast  \n",
            "1        West James  Non-Vegetarian     Dinner  \n",
            "2       Lake Regina           Vegan  Breakfast  \n",
            "3         Kellytown           Vegan      Lunch  \n",
            "4        Garciaport           Vegan     Dinner  \n",
            "\n",
            "Claims:\n",
            "    Claim_ID  Food_ID  Receiver_ID     Status        Timestamp\n",
            "0         1      164          908    Pending    3/5/2025 5:26\n",
            "1         2      353          391  Cancelled  3/11/2025 10:24\n",
            "2         3      626          492  Completed   3/21/2025 0:59\n",
            "3         4       61          933  Cancelled    3/4/2025 9:08\n",
            "4         5      345          229    Pending  3/14/2025 15:17\n"
          ]
        }
      ],
      "source": [
        "# Display first few rows\n",
        "print(\"Providers:\\n\", providers.head())\n",
        "print(\"\\nReceivers:\\n\", receivers.head())\n",
        "print(\"\\nFood Listings:\\n\", food_listings.head())\n",
        "print(\"\\nClaims:\\n\", claims.head())"
      ]
    },
    {
      "cell_type": "code",
      "execution_count": 7,
      "metadata": {
        "colab": {
          "base_uri": "https://localhost:8080/"
        },
        "id": "AZ0orevqH_SK",
        "outputId": "4c0fb7c7-41a0-498e-ef44-0e05000094ef"
      },
      "outputs": [
        {
          "output_type": "stream",
          "name": "stdout",
          "text": [
            "Missing values in providers:\n",
            " Provider_ID    0\n",
            "Name           0\n",
            "Type           0\n",
            "Address        0\n",
            "City           0\n",
            "Contact        0\n",
            "dtype: int64\n",
            "\n",
            "Missing values in receivers:\n",
            " Receiver_ID    0\n",
            "Name           0\n",
            "Type           0\n",
            "City           0\n",
            "Contact        0\n",
            "dtype: int64\n",
            "\n",
            "Missing values in food_listings:\n",
            " Food_ID          0\n",
            "Food_Name        0\n",
            "Quantity         0\n",
            "Expiry_Date      0\n",
            "Provider_ID      0\n",
            "Provider_Type    0\n",
            "Location         0\n",
            "Food_Type        0\n",
            "Meal_Type        0\n",
            "dtype: int64\n",
            "\n",
            "Missing values in claims:\n",
            " Claim_ID       0\n",
            "Food_ID        0\n",
            "Receiver_ID    0\n",
            "Status         0\n",
            "Timestamp      0\n",
            "dtype: int64\n"
          ]
        }
      ],
      "source": [
        "# Check missing values\n",
        "print(\"Missing values in providers:\\n\", providers.isnull().sum())\n",
        "print(\"\\nMissing values in receivers:\\n\", receivers.isnull().sum())\n",
        "print(\"\\nMissing values in food_listings:\\n\", food_listings.isnull().sum())\n",
        "print(\"\\nMissing values in claims:\\n\", claims.isnull().sum())"
      ]
    },
    {
      "cell_type": "code",
      "execution_count": 8,
      "metadata": {
        "colab": {
          "base_uri": "https://localhost:8080/"
        },
        "id": "RVsRC5T5IUVR",
        "outputId": "b9f39566-b7a0-42c7-88ab-ce7f32c1ee00"
      },
      "outputs": [
        {
          "output_type": "stream",
          "name": "stdout",
          "text": [
            "\n",
            "Duplicates in providers: 0\n",
            "Duplicates in receivers: 0\n",
            "Duplicates in food_listings: 0\n",
            "Duplicates in claims: 0\n"
          ]
        }
      ],
      "source": [
        "# Check duplicates\n",
        "print(\"\\nDuplicates in providers:\", providers.duplicated().sum())\n",
        "print(\"Duplicates in receivers:\", receivers.duplicated().sum())\n",
        "print(\"Duplicates in food_listings:\", food_listings.duplicated().sum())\n",
        "print(\"Duplicates in claims:\", claims.duplicated().sum())"
      ]
    },
    {
      "cell_type": "code",
      "execution_count": 9,
      "metadata": {
        "colab": {
          "base_uri": "https://localhost:8080/"
        },
        "id": "a_v4QresIU1Q",
        "outputId": "ac3996d6-8f26-42d2-b56b-c76ce00608dc"
      },
      "outputs": [
        {
          "output_type": "stream",
          "name": "stdout",
          "text": [
            "\n",
            "Providers dtypes:\n",
            " Provider_ID     int64\n",
            "Name           object\n",
            "Type           object\n",
            "Address        object\n",
            "City           object\n",
            "Contact        object\n",
            "dtype: object\n",
            "\n",
            "Food Listings dtypes:\n",
            " Food_ID           int64\n",
            "Food_Name        object\n",
            "Quantity          int64\n",
            "Expiry_Date      object\n",
            "Provider_ID       int64\n",
            "Provider_Type    object\n",
            "Location         object\n",
            "Food_Type        object\n",
            "Meal_Type        object\n",
            "dtype: object\n",
            "\n",
            "receivers:\n",
            " Receiver_ID     int64\n",
            "Name           object\n",
            "Type           object\n",
            "City           object\n",
            "Contact        object\n",
            "dtype: object\n",
            "\n",
            "Claims dtypes:\n",
            " Claim_ID        int64\n",
            "Food_ID         int64\n",
            "Receiver_ID     int64\n",
            "Status         object\n",
            "Timestamp      object\n",
            "dtype: object\n"
          ]
        }
      ],
      "source": [
        "# Check data types\n",
        "print(\"\\nProviders dtypes:\\n\", providers.dtypes)\n",
        "print(\"\\nFood Listings dtypes:\\n\", food_listings.dtypes)\n",
        "print(\"\\nreceivers:\\n\" , receivers.dtypes)\n",
        "print(\"\\nClaims dtypes:\\n\", claims.dtypes)"
      ]
    },
    {
      "cell_type": "code",
      "execution_count": 10,
      "metadata": {
        "id": "WwaDaAZIIYEA"
      },
      "outputs": [],
      "source": [
        "# Convert date columns\n",
        "food_listings['Expiry_Date'] = pd.to_datetime(food_listings['Expiry_Date'], errors='coerce')\n",
        "claims['Timestamp'] = pd.to_datetime(claims['Timestamp'], errors='coerce')"
      ]
    },
    {
      "cell_type": "code",
      "execution_count": 11,
      "metadata": {
        "colab": {
          "base_uri": "https://localhost:8080/"
        },
        "id": "HqDsV-8-L8AF",
        "outputId": "c12339a2-7ac0-40be-d23f-3bb3079b8aee"
      },
      "outputs": [
        {
          "output_type": "stream",
          "name": "stdout",
          "text": [
            "\n",
            "Updated Food Listings dtypes:\n",
            " Food_ID                   int64\n",
            "Food_Name                object\n",
            "Quantity                  int64\n",
            "Expiry_Date      datetime64[ns]\n",
            "Provider_ID               int64\n",
            "Provider_Type            object\n",
            "Location                 object\n",
            "Food_Type                object\n",
            "Meal_Type                object\n",
            "dtype: object\n",
            "\n",
            "Updated Claims dtypes:\n",
            " Claim_ID                int64\n",
            "Food_ID                 int64\n",
            "Receiver_ID             int64\n",
            "Status                 object\n",
            "Timestamp      datetime64[ns]\n",
            "dtype: object\n"
          ]
        }
      ],
      "source": [
        "# Verify data types\n",
        "print(\"\\nUpdated Food Listings dtypes:\\n\", food_listings.dtypes)\n",
        "print(\"\\nUpdated Claims dtypes:\\n\", claims.dtypes)"
      ]
    },
    {
      "cell_type": "code",
      "execution_count": 12,
      "metadata": {
        "colab": {
          "base_uri": "https://localhost:8080/"
        },
        "id": "RyBrFXSnL8oy",
        "outputId": "bc320eda-dbe0-4138-e458-5567884cae70"
      },
      "outputs": [
        {
          "output_type": "stream",
          "name": "stdout",
          "text": [
            "Cleaned datasets saved!\n"
          ]
        }
      ],
      "source": [
        "# Save cleaned datasets\n",
        "providers.to_csv('/content/cleaned_providers_data.csv', index=False)\n",
        "receivers.to_csv('/content/cleaned_receivers_data.csv', index=False)\n",
        "food_listings.to_csv('/content/cleaned_food_listings_data.csv', index=False)\n",
        "claims.to_csv('/content/cleaned_claims_data.csv', index=False)\n",
        "print(\"Cleaned datasets saved!\")"
      ]
    },
    {
      "cell_type": "code",
      "execution_count": 13,
      "metadata": {
        "colab": {
          "base_uri": "https://localhost:8080/"
        },
        "id": "PR46At2eNtiv",
        "outputId": "d644d459-c40d-48bb-d464-279f0965dd23"
      },
      "outputs": [
        {
          "output_type": "stream",
          "name": "stdout",
          "text": [
            "Invalid Provider_IDs in food_listings:\n",
            " Empty DataFrame\n",
            "Columns: [Food_ID, Food_Name, Quantity, Expiry_Date, Provider_ID, Provider_Type, Location, Food_Type, Meal_Type]\n",
            "Index: []\n",
            "\n",
            "Invalid Food_IDs in claims:\n",
            " Empty DataFrame\n",
            "Columns: [Claim_ID, Food_ID, Receiver_ID, Status, Timestamp]\n",
            "Index: []\n",
            "\n",
            "Invalid Receiver_IDs in claims:\n",
            " Empty DataFrame\n",
            "Columns: [Claim_ID, Food_ID, Receiver_ID, Status, Timestamp]\n",
            "Index: []\n"
          ]
        }
      ],
      "source": [
        "# Foreign key checks\n",
        "invalid_providers = food_listings[~food_listings['Provider_ID'].isin(providers['Provider_ID'])]\n",
        "print(\"Invalid Provider_IDs in food_listings:\\n\", invalid_providers)\n",
        "invalid_food_ids = claims[~claims['Food_ID'].isin(food_listings['Food_ID'])]\n",
        "print(\"\\nInvalid Food_IDs in claims:\\n\", invalid_food_ids)\n",
        "invalid_receivers = claims[~claims['Receiver_ID'].isin(receivers['Receiver_ID'])]\n",
        "print(\"\\nInvalid Receiver_IDs in claims:\\n\", invalid_receivers)"
      ]
    },
    {
      "cell_type": "code",
      "execution_count": 14,
      "metadata": {
        "colab": {
          "base_uri": "https://localhost:8080/"
        },
        "id": "aYAsbJTSVxwA",
        "outputId": "40ae945a-a9f0-48d6-ee22-7e9219afb673"
      },
      "outputs": [
        {
          "output_type": "stream",
          "name": "stdout",
          "text": [
            "\n",
            "Food_Type values: ['Non-Vegetarian' 'Vegan' 'Vegetarian']\n",
            "Meal_Type values: ['Breakfast' 'Dinner' 'Lunch' 'Snacks']\n",
            "Provider_Type values: ['Grocery Store' 'Catering Service' 'Restaurant' 'Supermarket']\n",
            "Status values: ['Pending' 'Cancelled' 'Completed']\n"
          ]
        }
      ],
      "source": [
        "# String consistency checks\n",
        "print(\"\\nFood_Type values:\", food_listings['Food_Type'].unique())\n",
        "print(\"Meal_Type values:\", food_listings['Meal_Type'].unique())\n",
        "print(\"Provider_Type values:\", food_listings['Provider_Type'].unique())\n",
        "print(\"Status values:\", claims['Status'].unique())"
      ]
    },
    {
      "cell_type": "code",
      "execution_count": 15,
      "metadata": {
        "colab": {
          "base_uri": "https://localhost:8080/"
        },
        "id": "QfnqfH4dMnmV",
        "outputId": "1e13a3bc-270a-4a16-e998-d8c32794c472"
      },
      "outputs": [
        {
          "output_type": "stream",
          "name": "stdout",
          "text": [
            "Tables created successfully!\n"
          ]
        }
      ],
      "source": [
        "# Create tables\n",
        "cursor.execute('''\n",
        "    CREATE TABLE IF NOT EXISTS providers (\n",
        "        Provider_ID INTEGER PRIMARY KEY,\n",
        "        Name TEXT,\n",
        "        Type TEXT,\n",
        "        Address TEXT,\n",
        "        City TEXT,\n",
        "        Contact TEXT\n",
        "    )\n",
        "''')\n",
        "\n",
        "cursor.execute('''\n",
        "    CREATE TABLE IF NOT EXISTS receivers (\n",
        "        Receiver_ID INTEGER PRIMARY KEY,\n",
        "        Name TEXT,\n",
        "        Type TEXT,\n",
        "        City TEXT,\n",
        "        Contact TEXT\n",
        "    )\n",
        "''')\n",
        "\n",
        "cursor.execute('''\n",
        "    CREATE TABLE IF NOT EXISTS food_listings (\n",
        "        Food_ID INTEGER PRIMARY KEY,\n",
        "        Food_Name TEXT,\n",
        "        Quantity INTEGER,\n",
        "        Expiry_Date TEXT,\n",
        "        Provider_ID INTEGER,\n",
        "        Provider_Type TEXT,\n",
        "        Location TEXT,\n",
        "        Food_Type TEXT,\n",
        "        Meal_Type TEXT,\n",
        "        FOREIGN KEY (Provider_ID) REFERENCES providers(Provider_ID)\n",
        "    )\n",
        "''')\n",
        "\n",
        "cursor.execute('''\n",
        "    CREATE TABLE IF NOT EXISTS claims (\n",
        "        Claim_ID INTEGER PRIMARY KEY,\n",
        "        Food_ID INTEGER,\n",
        "        Receiver_ID INTEGER,\n",
        "        Status TEXT,\n",
        "        Timestamp TEXT,\n",
        "        FOREIGN KEY (Food_ID) REFERENCES food_listings(Food_ID),\n",
        "        FOREIGN KEY (Receiver_ID) REFERENCES receivers(Receiver_ID)\n",
        "    )\n",
        "''')\n",
        "\n",
        "conn.commit()\n",
        "print(\"Tables created successfully!\")"
      ]
    },
    {
      "cell_type": "code",
      "execution_count": 16,
      "metadata": {
        "colab": {
          "base_uri": "https://localhost:8080/"
        },
        "id": "rt41RwVNNsv7",
        "outputId": "5c11b010-568a-43f4-d267-f6dcef01af57"
      },
      "outputs": [
        {
          "output_type": "stream",
          "name": "stdout",
          "text": [
            "Data loaded successfully!\n",
            "Providers sample:\n",
            "    Provider_ID                         Name           Type  \\\n",
            "0            1             Gonzales-Cochran    Supermarket   \n",
            "1            2  Nielsen, Johnson and Fuller  Grocery Store   \n",
            "2            3                 Miller-Black    Supermarket   \n",
            "3            4   Clark, Prince and Williams  Grocery Store   \n",
            "4            5               Coleman-Farley  Grocery Store   \n",
            "\n",
            "                                             Address            City  \\\n",
            "0  74347 Christopher Extensions\\nAndreamouth, OK ...     New Jessica   \n",
            "1           91228 Hanson Stream\\nWelchtown, OR 27136     East Sheena   \n",
            "2  561 Martinez Point Suite 507\\nGuzmanchester, W...  Lake Jesusview   \n",
            "3     467 Bell Trail Suite 409\\nPort Jesus, IA 61188     Mendezmouth   \n",
            "4  078 Matthew Creek Apt. 319\\nSaraborough, MA 53978   Valentineside   \n",
            "\n",
            "                Contact  \n",
            "0       +1-600-220-0480  \n",
            "1  +1-925-283-8901x6297  \n",
            "2      001-517-295-2206  \n",
            "3      556.944.8935x401  \n",
            "4          193.714.6577  \n"
          ]
        }
      ],
      "source": [
        "# Load providers\n",
        "providers = pd.read_csv('/content/cleaned_providers_data.csv')\n",
        "for index, row in providers.iterrows():\n",
        "    cursor.execute(\n",
        "        '''\n",
        "        INSERT INTO providers (Provider_ID, Name, Type, Address, City, Contact)\n",
        "        VALUES (?, ?, ?, ?, ?, ?)\n",
        "        ''',\n",
        "        (row['Provider_ID'], row['Name'], row['Type'], row['Address'], row['City'], row['Contact'])\n",
        "    )\n",
        "\n",
        "# Load receivers\n",
        "receivers = pd.read_csv('/content/cleaned_receivers_data.csv')\n",
        "for index, row in receivers.iterrows():\n",
        "    cursor.execute(\n",
        "        '''\n",
        "        INSERT INTO receivers (Receiver_ID, Name, Type, City, Contact)\n",
        "        VALUES (?, ?, ?, ?, ?)\n",
        "        ''',\n",
        "        (row['Receiver_ID'], row['Name'], row['Type'], row['City'], row['Contact'])\n",
        "    )\n",
        "\n",
        "# Load food_listings\n",
        "food_listings = pd.read_csv('/content/cleaned_food_listings_data.csv')\n",
        "for index, row in food_listings.iterrows():\n",
        "    cursor.execute(\n",
        "        '''\n",
        "        INSERT INTO food_listings (Food_ID, Food_Name, Quantity, Expiry_Date, Provider_ID, Provider_Type, Location, Food_Type, Meal_Type)\n",
        "        VALUES (?, ?, ?, ?, ?, ?, ?, ?, ?)\n",
        "        ''',\n",
        "        (row['Food_ID'], row['Food_Name'], row['Quantity'], row['Expiry_Date'], row['Provider_ID'], row['Provider_Type'], row['Location'], row['Food_Type'], row['Meal_Type'])\n",
        "    )\n",
        "\n",
        "# Load claims\n",
        "claims = pd.read_csv('/content/cleaned_claims_data.csv')\n",
        "for index, row in claims.iterrows():\n",
        "    cursor.execute(\n",
        "        '''\n",
        "        INSERT INTO claims (Claim_ID, Food_ID, Receiver_ID, Status, Timestamp)\n",
        "        VALUES (?, ?, ?, ?, ?)\n",
        "        ''',\n",
        "        (row['Claim_ID'], row['Food_ID'], row['Receiver_ID'], row['Status'], row['Timestamp'])\n",
        "    )\n",
        "\n",
        "conn.commit()\n",
        "print(\"Data loaded successfully!\")\n",
        "\n",
        "# Verify data\n",
        "providers_check = pd.read_sql(\"SELECT * FROM providers LIMIT 5\", conn)\n",
        "print(\"Providers sample:\\n\", providers_check)\n",
        "conn.close()"
      ]
    },
    {
      "cell_type": "code",
      "execution_count": 17,
      "metadata": {
        "id": "q2DObCTur_7H"
      },
      "outputs": [],
      "source": [
        "# Connect to SQLite\n",
        "conn = sqlite3.connect('food_wastage_system.db')"
      ]
    },
    {
      "cell_type": "code",
      "execution_count": 18,
      "metadata": {
        "colab": {
          "base_uri": "https://localhost:8080/"
        },
        "id": "1yLIxLH2Y8Bg",
        "outputId": "8486db4e-d270-404d-b922-979f479b6e40"
      },
      "outputs": [
        {
          "output_type": "stream",
          "name": "stdout",
          "text": [
            "Q1: Providers per city\n",
            "                          City  Provider_Count\n",
            "0    South Christopherborough               3\n",
            "1                   New Carol               3\n",
            "2                 Williamview               2\n",
            "3           West Lauraborough               2\n",
            "4            West Christopher               2\n",
            "..                        ...             ...\n",
            "958          Alexanderchester               1\n",
            "959              Aguirreville               1\n",
            "960                Adamsville               1\n",
            "961                 Adamsview               1\n",
            "962                  Adambury               1\n",
            "\n",
            "[963 rows x 2 columns]\n"
          ]
        }
      ],
      "source": [
        "# Query 1: Number of providers per city\n",
        "q1 = pd.read_sql('''\n",
        "    SELECT City, COUNT(*) as Provider_Count\n",
        "    FROM providers\n",
        "    GROUP BY City\n",
        "    ORDER BY Provider_Count DESC\n",
        "''', conn)\n",
        "print(\"Q1: Providers per city\\n\", q1)"
      ]
    },
    {
      "cell_type": "code",
      "execution_count": 19,
      "metadata": {
        "colab": {
          "base_uri": "https://localhost:8080/"
        },
        "id": "4yN6B-mcMlko",
        "outputId": "e2a3942a-4e1d-4d78-b332-c54b7892065d"
      },
      "outputs": [
        {
          "output_type": "stream",
          "name": "stdout",
          "text": [
            "\n",
            "Q2: Receivers per city\n",
            "                 City  Receiver_Count\n",
            "0    New Christopher               3\n",
            "1       Williamsfort               2\n",
            "2       West Richard               2\n",
            "3         West James               2\n",
            "4        Stevenmouth               2\n",
            "..               ...             ...\n",
            "961    Alexanderbury               1\n",
            "962      Aguilarstad               1\n",
            "963      Aguilarbury               1\n",
            "964         Adamland               1\n",
            "965       Aaronshire               1\n",
            "\n",
            "[966 rows x 2 columns]\n"
          ]
        }
      ],
      "source": [
        "# Query 2: Number of receivers per city\n",
        "q2 = pd.read_sql('''\n",
        "    SELECT City, COUNT(*) as Receiver_Count\n",
        "    FROM receivers\n",
        "    GROUP BY City\n",
        "    ORDER BY Receiver_Count DESC\n",
        "''', conn)\n",
        "print(\"\\nQ2: Receivers per city\\n\", q2)"
      ]
    },
    {
      "cell_type": "code",
      "execution_count": 20,
      "metadata": {
        "colab": {
          "base_uri": "https://localhost:8080/"
        },
        "id": "hv2o85eHMoeb",
        "outputId": "b6cef2e0-a492-43c5-9abc-33ca07e40551"
      },
      "outputs": [
        {
          "output_type": "stream",
          "name": "stdout",
          "text": [
            "\n",
            "Q3: Provider type with most food listings\n",
            "    Provider_Type  Listing_Count\n",
            "0    Supermarket            267\n",
            "1     Restaurant            258\n",
            "2  Grocery Store            243\n"
          ]
        }
      ],
      "source": [
        "# Query 3: Food provider type contributing the most food listings\n",
        "q3 = pd.read_sql('''\n",
        "    SELECT Provider_Type, COUNT(*) as Listing_Count\n",
        "    FROM food_listings\n",
        "    GROUP BY Provider_Type\n",
        "    ORDER BY Listing_Count DESC\n",
        "    LIMIT 3\n",
        "''', conn)\n",
        "print(\"\\nQ3: Provider type with most food listings\\n\", q3)"
      ]
    },
    {
      "cell_type": "code",
      "execution_count": 21,
      "metadata": {
        "colab": {
          "base_uri": "https://localhost:8080/"
        },
        "id": "0P1MLiA_N2n5",
        "outputId": "8aefe6da-031d-4278-ca0e-e1e4fb1b203d"
      },
      "outputs": [
        {
          "output_type": "stream",
          "name": "stdout",
          "text": [
            "\n",
            "Q4_1: Providers in New Jessica \n",
            "                Name          Contact  \\\n",
            "0  Gonzales-Cochran  +1-600-220-0480   \n",
            "\n",
            "                                             Address  \n",
            "0  74347 Christopher Extensions\\nAndreamouth, OK ...  \n"
          ]
        }
      ],
      "source": [
        "# Query 4_1: Contact information of providers in a specific city\n",
        "q4_1 = pd.read_sql('''\n",
        "    SELECT Name, Contact, Address\n",
        "    FROM providers\n",
        "    WHERE City = 'New Jessica'\n",
        "''', conn)\n",
        "print(\"\\nQ4_1: Providers in New Jessica \\n\", q4_1)"
      ]
    },
    {
      "cell_type": "code",
      "execution_count": 22,
      "metadata": {
        "colab": {
          "base_uri": "https://localhost:8080/"
        },
        "id": "B8RE9Ms3PHV1",
        "outputId": "c6e22473-5e62-4773-a44a-2fc2de8c3511"
      },
      "outputs": [
        {
          "output_type": "stream",
          "name": "stdout",
          "text": [
            "\n",
            "Q4_2: Providers in  Mendezmouth \n",
            "                          Name           Contact  \\\n",
            "0  Clark, Prince and Williams  556.944.8935x401   \n",
            "\n",
            "                                          Address  \n",
            "0  467 Bell Trail Suite 409\\nPort Jesus, IA 61188  \n"
          ]
        }
      ],
      "source": [
        "# Query 4_2: Contact information of providers in a specific city\n",
        "q4_2 = pd.read_sql('''\n",
        "    SELECT Name, Contact, Address\n",
        "    FROM providers\n",
        "    WHERE City = 'Mendezmouth'\n",
        "''', conn)\n",
        "print(\"\\nQ4_2: Providers in  Mendezmouth \\n\", q4_2)"
      ]
    },
    {
      "cell_type": "code",
      "execution_count": 23,
      "metadata": {
        "colab": {
          "base_uri": "https://localhost:8080/"
        },
        "id": "ahljk3c0QnBT",
        "outputId": "aaf01491-c731-45ee-932d-f848c39ab4ea"
      },
      "outputs": [
        {
          "output_type": "stream",
          "name": "stdout",
          "text": [
            "\n",
            "Q5: Top receivers by claims\n",
            "                 Name  Claim_Count\n",
            "0       Scott Hunter            5\n",
            "1  William Frederick            5\n",
            "2       Matthew Webb            5\n",
            "3     Anthony Garcia            5\n",
            "4         Alvin West            4\n",
            "5    Jennifer Nelson            4\n",
            "6   Kristina Simpson            4\n",
            "7    Kristine Martin            4\n"
          ]
        }
      ],
      "source": [
        "# Query 5: Receivers with the most food claims\n",
        "q5 = pd.read_sql('''\n",
        "    SELECT r.Name, COUNT(c.Claim_ID) as Claim_Count\n",
        "    FROM receivers r\n",
        "    JOIN claims c ON r.Receiver_ID = c.Receiver_ID\n",
        "    GROUP BY r.Receiver_ID, r.Name\n",
        "    ORDER BY Claim_Count DESC\n",
        "    LIMIT 8\n",
        "''', conn)\n",
        "print(\"\\nQ5: Top receivers by claims\\n\", q5)"
      ]
    },
    {
      "cell_type": "code",
      "execution_count": 24,
      "metadata": {
        "colab": {
          "base_uri": "https://localhost:8080/"
        },
        "id": "5UwR-YuxQsTU",
        "outputId": "50397147-dc13-4be9-ca4c-f5304062e7ef"
      },
      "outputs": [
        {
          "output_type": "stream",
          "name": "stdout",
          "text": [
            "\n",
            "Q6: Total food quantity\n",
            "    Total_Quantity\n",
            "0           25794\n"
          ]
        }
      ],
      "source": [
        "# Query 6: Total quantity of food available from all providers\n",
        "q6 = pd.read_sql('''\n",
        "    SELECT SUM(Quantity) as Total_Quantity\n",
        "    FROM food_listings\n",
        "''', conn)\n",
        "print(\"\\nQ6: Total food quantity\\n\", q6)"
      ]
    },
    {
      "cell_type": "code",
      "execution_count": 25,
      "metadata": {
        "colab": {
          "base_uri": "https://localhost:8080/"
        },
        "id": "DmrNPoX6RACs",
        "outputId": "169ffb9b-ed7f-4e81-985a-8f4f566ae8b9"
      },
      "outputs": [
        {
          "output_type": "stream",
          "name": "stdout",
          "text": [
            "\n",
            "Q7: City with most food listings\n",
            "         Location  Listing_Count\n",
            "0  South Kathryn              6\n"
          ]
        }
      ],
      "source": [
        "# Query 7: City with the highest number of food listings\n",
        "q7 = pd.read_sql('''\n",
        "    SELECT Location, COUNT(*) as Listing_Count\n",
        "    FROM food_listings\n",
        "    GROUP BY Location\n",
        "    ORDER BY Listing_Count DESC\n",
        "    LIMIT 1\n",
        "''', conn)\n",
        "print(\"\\nQ7: City with most food listings\\n\", q7)"
      ]
    },
    {
      "cell_type": "code",
      "execution_count": 26,
      "metadata": {
        "colab": {
          "base_uri": "https://localhost:8080/"
        },
        "id": "BoECgH1HRV4I",
        "outputId": "650fb2bb-f72a-4f77-f85c-69b9ee085dd7"
      },
      "outputs": [
        {
          "output_type": "stream",
          "name": "stdout",
          "text": [
            "\n",
            "Q8: Most common food types\n",
            "         Food_Type  Listing_Count\n",
            "0      Vegetarian            336\n",
            "1           Vegan            334\n",
            "2  Non-Vegetarian            330\n"
          ]
        }
      ],
      "source": [
        "# Query 8: Most commonly available food types\n",
        "q8 = pd.read_sql('''\n",
        "    SELECT Food_Type, COUNT(*) as Listing_Count\n",
        "    FROM food_listings\n",
        "    GROUP BY Food_Type\n",
        "    ORDER BY Listing_Count DESC\n",
        "''', conn)\n",
        "print(\"\\nQ8: Most common food types\\n\", q8)"
      ]
    },
    {
      "cell_type": "code",
      "execution_count": 27,
      "metadata": {
        "colab": {
          "base_uri": "https://localhost:8080/"
        },
        "id": "4NiA0GrRRZvN",
        "outputId": "1208a434-0e0b-42b3-efc0-ae272387a3f7"
      },
      "outputs": [
        {
          "output_type": "stream",
          "name": "stdout",
          "text": [
            "\n",
            "Q9: Claims per food item\n",
            "     Food_Name  Claim_Count\n",
            "0        Soup            5\n",
            "1     Chicken            5\n",
            "2        Fish            5\n",
            "3        Rice            4\n",
            "4     Chicken            4\n",
            "..        ...          ...\n",
            "995     Dairy            0\n",
            "996      Soup            0\n",
            "997     Salad            0\n",
            "998      Fish            0\n",
            "999     Salad            0\n",
            "\n",
            "[1000 rows x 2 columns]\n"
          ]
        }
      ],
      "source": [
        "# Query 9: Number of claims per food item\n",
        "q9 = pd.read_sql('''\n",
        "    SELECT f.Food_Name, COUNT(c.Claim_ID) as Claim_Count\n",
        "    FROM food_listings f\n",
        "    LEFT JOIN claims c ON f.Food_ID = c.Food_ID\n",
        "    GROUP BY f.Food_ID, f.Food_Name\n",
        "    ORDER BY Claim_Count DESC\n",
        "''', conn)\n",
        "print(\"\\nQ9: Claims per food item\\n\", q9)"
      ]
    },
    {
      "cell_type": "code",
      "execution_count": 28,
      "metadata": {
        "colab": {
          "base_uri": "https://localhost:8080/"
        },
        "id": "CkGLl8dFRgCB",
        "outputId": "c197c7c3-f6fe-475e-f04b-ec25db28d0c6"
      },
      "outputs": [
        {
          "output_type": "stream",
          "name": "stdout",
          "text": [
            "\n",
            "Q10: Provider with most completed claims\n",
            "           Name  Completed_Claims\n",
            "0  Barry Group                 5\n"
          ]
        }
      ],
      "source": [
        "# Query 10: Provider with the highest number of successful (Completed) claims\n",
        "q10 = pd.read_sql('''\n",
        "    SELECT p.Name, COUNT(c.Claim_ID) as Completed_Claims\n",
        "    FROM providers p\n",
        "    JOIN food_listings f ON p.Provider_ID = f.Provider_ID\n",
        "    JOIN claims c ON f.Food_ID = c.Food_ID\n",
        "    WHERE c.Status = 'Completed'\n",
        "    GROUP BY p.Provider_ID, p.Name\n",
        "    ORDER BY Completed_Claims DESC\n",
        "    LIMIT 1\n",
        "''', conn)\n",
        "print(\"\\nQ10: Provider with most completed claims\\n\", q10)"
      ]
    },
    {
      "cell_type": "code",
      "execution_count": 29,
      "metadata": {
        "colab": {
          "base_uri": "https://localhost:8080/"
        },
        "id": "1Zt2UaylSPHk",
        "outputId": "2e68ad6e-9710-4b3e-ef3c-c483b241b84d"
      },
      "outputs": [
        {
          "output_type": "stream",
          "name": "stdout",
          "text": [
            "\n",
            "Q11: Claim status percentages\n",
            "       Status  Claim_Count  Percentage\n",
            "0  Completed          339        33.9\n",
            "1  Cancelled          336        33.6\n",
            "2    Pending          325        32.5\n"
          ]
        }
      ],
      "source": [
        "# Query 11: Percentage of claims by status (Completed, Pending, Canceled)\n",
        "q11 = pd.read_sql('''\n",
        "    SELECT\n",
        "        Status,\n",
        "        COUNT(*) as Claim_Count,\n",
        "        (COUNT(*) * 100.0 / (SELECT COUNT(*) FROM claims)) as Percentage\n",
        "    FROM claims\n",
        "    GROUP BY Status\n",
        "    ORDER BY Claim_Count DESC\n",
        "''', conn)\n",
        "print(\"\\nQ11: Claim status percentages\\n\", q11)"
      ]
    },
    {
      "cell_type": "code",
      "execution_count": 30,
      "metadata": {
        "colab": {
          "base_uri": "https://localhost:8080/"
        },
        "id": "2-VaynAVSmNi",
        "outputId": "8fab591a-68d4-46c7-b74b-522db1cb2519"
      },
      "outputs": [
        {
          "output_type": "stream",
          "name": "stdout",
          "text": [
            "\n",
            "Q12: Average quantity claimed per receiver\n",
            "                    Name  Avg_Quantity_Claimed\n",
            "0           Nancy Silva                  50.0\n",
            "1            Lisa Pitts                  50.0\n",
            "2       Daniel Williams                  50.0\n",
            "3          Peggy Knight                  50.0\n",
            "4    Christopher Wright                  50.0\n",
            "..                  ...                   ...\n",
            "619     Corey Rodriguez                   2.0\n",
            "620      Kenneth Barnes                   2.0\n",
            "621       John Reynolds                   2.0\n",
            "622       Joshua Hooper                   1.0\n",
            "623        Amanda Kline                   1.0\n",
            "\n",
            "[624 rows x 2 columns]\n"
          ]
        }
      ],
      "source": [
        "# Query 12: Average quantity of food claimed per receiver\n",
        "q12 = pd.read_sql('''\n",
        "    SELECT r.Name, AVG(f.Quantity) as Avg_Quantity_Claimed\n",
        "    FROM receivers r\n",
        "    JOIN claims c ON r.Receiver_ID = c.Receiver_ID\n",
        "    JOIN food_listings f ON c.Food_ID = f.Food_ID\n",
        "    GROUP BY r.Receiver_ID, r.Name\n",
        "    ORDER BY Avg_Quantity_Claimed DESC\n",
        "''', conn)\n",
        "print(\"\\nQ12: Average quantity claimed per receiver\\n\", q12)"
      ]
    },
    {
      "cell_type": "code",
      "execution_count": 31,
      "metadata": {
        "colab": {
          "base_uri": "https://localhost:8080/"
        },
        "id": "tAjVPrPoSsps",
        "outputId": "02e53e48-3bc4-4d31-a4da-44d2d607b96a"
      },
      "outputs": [
        {
          "output_type": "stream",
          "name": "stdout",
          "text": [
            "\n",
            "Q13: Most claimed meal type\n",
            "    Meal_Type  Claim_Count\n",
            "0  Breakfast          278\n"
          ]
        }
      ],
      "source": [
        "# Query 13: Meal type claimed the most\n",
        "q13 = pd.read_sql('''\n",
        "    SELECT f.Meal_Type, COUNT(c.Claim_ID) as Claim_Count\n",
        "    FROM food_listings f\n",
        "    JOIN claims c ON f.Food_ID = c.Food_ID\n",
        "    GROUP BY f.Meal_Type\n",
        "    ORDER BY Claim_Count DESC\n",
        "    LIMIT 1\n",
        "''', conn)\n",
        "print(\"\\nQ13: Most claimed meal type\\n\", q13)"
      ]
    },
    {
      "cell_type": "code",
      "execution_count": 32,
      "metadata": {
        "colab": {
          "base_uri": "https://localhost:8080/"
        },
        "id": "ZiVNTGvRTBD7",
        "outputId": "85fbce46-7210-49e0-91f3-a1288f40bfe9"
      },
      "outputs": [
        {
          "output_type": "stream",
          "name": "stdout",
          "text": [
            "\n",
            "Q14: Total quantity donated by provider\n",
            "                                 Name  Total_Donated\n",
            "0                        Barry Group            179\n",
            "1         Evans, Wright and Mitchell            158\n",
            "2                        Smith Group            150\n",
            "3                         Nelson LLC            142\n",
            "4                         Ruiz-Oneal            140\n",
            "..                               ...            ...\n",
            "632                   Gonzales-Moore              1\n",
            "633  Martinez, Armstrong and Carroll              1\n",
            "634                   Brown and Sons              1\n",
            "635                        Mcgee PLC              1\n",
            "636                   Reyes and Sons              1\n",
            "\n",
            "[637 rows x 2 columns]\n"
          ]
        }
      ],
      "source": [
        "# Query 14: Total quantity donated by each provider\n",
        "q14 = pd.read_sql('''\n",
        "    SELECT p.Name, SUM(f.Quantity) as Total_Donated\n",
        "    FROM providers p\n",
        "    JOIN food_listings f ON p.Provider_ID = f.Provider_ID\n",
        "    GROUP BY p.Provider_ID, p.Name\n",
        "    ORDER BY Total_Donated DESC\n",
        "''', conn)\n",
        "print(\"\\nQ14: Total quantity donated by provider\\n\", q14)"
      ]
    },
    {
      "cell_type": "code",
      "execution_count": 33,
      "metadata": {
        "colab": {
          "base_uri": "https://localhost:8080/"
        },
        "id": "AbPkRpj0VBvI",
        "outputId": "d697f7af-481f-4c88-b606-6a54101d682f"
      },
      "outputs": [
        {
          "output_type": "stream",
          "name": "stdout",
          "text": [
            "\n",
            "Q15: Providers with no claims\n",
            "                             Name\n",
            "0    Nielsen, Johnson and Fuller\n",
            "1                 Coleman-Farley\n",
            "2                      Ortiz-Lee\n",
            "3      Hall, Nguyen and Martinez\n",
            "4       Flores, Jackson and Ford\n",
            "..                           ...\n",
            "295      Wilson, Harris and Mayo\n",
            "296             Williams-Aguirre\n",
            "297                  Moore Group\n",
            "298               Garza-Williams\n",
            "299               Jenkins-Brooks\n",
            "\n",
            "[300 rows x 1 columns]\n"
          ]
        }
      ],
      "source": [
        "# Query 15: Providers with no claims\n",
        "q15 = pd.read_sql('''\n",
        "    SELECT p.Name\n",
        "    FROM providers p\n",
        "    JOIN food_listings f ON p.Provider_ID = f.Provider_ID\n",
        "    LEFT JOIN claims c ON f.Food_ID = c.Food_ID\n",
        "    WHERE c.Claim_ID IS NULL\n",
        "    GROUP BY p.Provider_ID, p.Name\n",
        "''', conn)\n",
        "print(\"\\nQ15: Providers with no claims\\n\", q15)"
      ]
    },
    {
      "cell_type": "code",
      "execution_count": 34,
      "metadata": {
        "colab": {
          "base_uri": "https://localhost:8080/"
        },
        "id": "875M0S1zT3s1",
        "outputId": "2575ca1a-a886-43b9-d05a-1efd50c8528b"
      },
      "outputs": [
        {
          "output_type": "stream",
          "name": "stdout",
          "text": [
            "\n",
            "Q16: Receivers with no claims\n",
            "                  Name\n",
            "0         John Romero\n",
            "1         James Perez\n",
            "2       Amber Pacheco\n",
            "3        Jamie Sutton\n",
            "4    Melissa Castillo\n",
            "..                ...\n",
            "371       Becky Smith\n",
            "372  Timothy Bradshaw\n",
            "373    Lindsey Wagner\n",
            "374       James Curry\n",
            "375   Theodore Briggs\n",
            "\n",
            "[376 rows x 1 columns]\n"
          ]
        }
      ],
      "source": [
        "# Query 16: Receivers with no claims\n",
        "q16 = pd.read_sql('''\n",
        "    SELECT Name\n",
        "    FROM receivers\n",
        "    WHERE Receiver_ID NOT IN (SELECT Receiver_ID FROM claims)\n",
        "''', conn)\n",
        "print(\"\\nQ16: Receivers with no claims\\n\", q16)"
      ]
    },
    {
      "cell_type": "code",
      "execution_count": 35,
      "metadata": {
        "colab": {
          "base_uri": "https://localhost:8080/"
        },
        "id": "BRx-L4zKU5Yy",
        "outputId": "5d73343c-5c5f-43bd-f537-bf0bfe9cc619"
      },
      "outputs": [
        {
          "output_type": "stream",
          "name": "stdout",
          "text": [
            "\n",
            "Q17: Claims by meal type and status\n",
            "     Meal_Type     Status  Claim_Count\n",
            "0   Breakfast  Cancelled           99\n",
            "1   Breakfast  Completed           95\n",
            "2       Lunch    Pending           89\n",
            "3      Snacks  Cancelled           88\n",
            "4      Dinner  Completed           86\n",
            "5   Breakfast    Pending           84\n",
            "6       Lunch  Completed           84\n",
            "7      Snacks    Pending           78\n",
            "8       Lunch  Cancelled           77\n",
            "9      Dinner    Pending           74\n",
            "10     Snacks  Completed           74\n",
            "11     Dinner  Cancelled           72\n"
          ]
        }
      ],
      "source": [
        "# Query 17: Claims by meal type and status\n",
        "q17 = pd.read_sql('''\n",
        "    SELECT f.Meal_Type, c.Status, COUNT(c.Claim_ID) as Claim_Count\n",
        "    FROM food_listings f\n",
        "    JOIN claims c ON f.Food_ID = c.Food_ID\n",
        "    GROUP BY f.Meal_Type, c.Status\n",
        "    ORDER BY Claim_Count DESC\n",
        "''', conn)\n",
        "print(\"\\nQ17: Claims by meal type and status\\n\", q17)"
      ]
    },
    {
      "cell_type": "code",
      "execution_count": 36,
      "metadata": {
        "colab": {
          "base_uri": "https://localhost:8080/"
        },
        "id": "R-7KPYMeuNvT",
        "outputId": "5512938f-90d2-4492-bc46-d5fd4c613836"
      },
      "outputs": [
        {
          "output_type": "stream",
          "name": "stdout",
          "text": [
            "\n",
            "Q18: Unclaimed food listings\n",
            "     Food_Name  Quantity Expiry_Date\n",
            "0        Soup        22  2025-03-24\n",
            "1      Fruits        15  2025-03-16\n",
            "2        Soup        14  2025-03-19\n",
            "3        Rice        49  2025-03-28\n",
            "4        Rice        41  2025-03-20\n",
            "..        ...       ...         ...\n",
            "348     Dairy         6  2025-03-29\n",
            "349      Soup         8  2025-03-28\n",
            "350     Salad        17  2025-03-29\n",
            "351      Fish        15  2025-03-30\n",
            "352     Salad        18  2025-03-19\n",
            "\n",
            "[353 rows x 3 columns]\n"
          ]
        }
      ],
      "source": [
        "# Query 18: Food listings not claimed\n",
        "q18 = pd.read_sql('''\n",
        "    SELECT f.Food_Name, f.Quantity, f.Expiry_Date\n",
        "    FROM food_listings f\n",
        "    LEFT JOIN claims c ON f.Food_ID = c.Food_ID\n",
        "    WHERE c.Claim_ID IS NULL\n",
        "''', conn)\n",
        "print(\"\\nQ18: Unclaimed food listings\\n\", q18)"
      ]
    },
    {
      "cell_type": "code",
      "execution_count": 37,
      "metadata": {
        "colab": {
          "base_uri": "https://localhost:8080/"
        },
        "id": "bctCIifcyMct",
        "outputId": "934b57e3-edae-4286-bb1b-2810b1af0371"
      },
      "outputs": [
        {
          "output_type": "stream",
          "name": "stdout",
          "text": [
            "Q19: Receivers per city by meal type\n",
            "                     City  Breakfast_Receivers  Lunch_Receivers  \\\n",
            "0        New Christopher                    2                1   \n",
            "1             Smithshire                    2                0   \n",
            "2        Lake Rebeccaton                    2                0   \n",
            "3     Christopherchester                    2                0   \n",
            "4            Lake Daniel                    2                0   \n",
            "..                   ...                  ...              ...   \n",
            "602   South Michelleport                    0                0   \n",
            "603    South Randalltown                    0                0   \n",
            "604  South Samanthaburgh                    0                0   \n",
            "605         Tanyachester                    0                0   \n",
            "606         West Jessica                    0                0   \n",
            "\n",
            "     Dinner_Receivers  Snacks_Receivers  \n",
            "0                   0                 0  \n",
            "1                   1                 2  \n",
            "2                   1                 0  \n",
            "3                   0                 1  \n",
            "4                   0                 1  \n",
            "..                ...               ...  \n",
            "602                 0                 1  \n",
            "603                 0                 1  \n",
            "604                 0                 1  \n",
            "605                 0                 1  \n",
            "606                 0                 1  \n",
            "\n",
            "[607 rows x 5 columns]\n"
          ]
        }
      ],
      "source": [
        "# Query 19: Receivers per city for each meal type\n",
        "q19 = pd.read_sql('''\n",
        "    SELECT\n",
        "        r.City,\n",
        "        COUNT(DISTINCT CASE WHEN f.Meal_Type = 'Breakfast' THEN r.Receiver_ID END) as Breakfast_Receivers,\n",
        "        COUNT(DISTINCT CASE WHEN f.Meal_Type = 'Lunch' THEN r.Receiver_ID END) as Lunch_Receivers,\n",
        "        COUNT(DISTINCT CASE WHEN f.Meal_Type = 'Dinner' THEN r.Receiver_ID END) as Dinner_Receivers,\n",
        "        COUNT(DISTINCT CASE WHEN f.Meal_Type = 'Snacks' THEN r.Receiver_ID END) as Snacks_Receivers\n",
        "    FROM receivers r\n",
        "    JOIN claims c ON r.Receiver_ID = c.Receiver_ID\n",
        "    JOIN food_listings f ON c.Food_ID = f.Food_ID\n",
        "    GROUP BY r.City\n",
        "    ORDER BY Breakfast_Receivers DESC, Lunch_Receivers DESC, Dinner_Receivers DESC, Snacks_Receivers DESC\n",
        "''', conn)\n",
        "print(\"Q19: Receivers per city by meal type\\n\", q19)"
      ]
    },
    {
      "cell_type": "code",
      "execution_count": 38,
      "metadata": {
        "colab": {
          "base_uri": "https://localhost:8080/"
        },
        "id": "yF-uKNpgyc3p",
        "outputId": "2e70bdd5-894e-4a4b-c2c5-1645a4fb6d2b"
      },
      "outputs": [
        {
          "output_type": "stream",
          "name": "stdout",
          "text": [
            "\n",
            "Q20: Receiver type with most food and food type\n",
            "   Type   Food_Type  Total_Quantity\n",
            "0  NGO  Vegetarian            2542\n"
          ]
        }
      ],
      "source": [
        "# Query 20: receiver type claims the most food and type of food\n",
        "q20 = pd.read_sql('''\n",
        "    SELECT r.Type, f.Food_Type, SUM(f.Quantity) as Total_Quantity\n",
        "    FROM receivers r\n",
        "    JOIN claims c ON r.Receiver_ID = c.Receiver_ID\n",
        "    JOIN food_listings f ON c.Food_ID = f.Food_ID\n",
        "    GROUP BY r.Type, f.Food_Type\n",
        "    ORDER BY Total_Quantity DESC\n",
        "    LIMIT 1\n",
        "''', conn)\n",
        "print(\"\\nQ20: Receiver type with most food and food type\\n\", q20)"
      ]
    },
    {
      "cell_type": "code",
      "execution_count": 39,
      "metadata": {
        "colab": {
          "base_uri": "https://localhost:8080/"
        },
        "id": "CvKGQ1Pd0Q5C",
        "outputId": "de0728d6-2e12-407e-af96-1d9526852442"
      },
      "outputs": [
        {
          "output_type": "stream",
          "name": "stdout",
          "text": [
            "\n",
            "Q21: Receivers by food type and meal type\n",
            "                 Name   Food_Type  Meal_Type  Claim_Count\n",
            "0     Christine Bell       Vegan      Lunch            3\n",
            "1        Johnny Page  Vegetarian      Lunch            2\n",
            "2      Mary Franklin  Vegetarian     Snacks            2\n",
            "3    James Castaneda  Vegetarian  Breakfast            2\n",
            "4         Alvin West  Vegetarian     Dinner            2\n",
            "..               ...         ...        ...          ...\n",
            "948   Matthew Curtis  Vegetarian     Snacks            1\n",
            "949      Amanda Cain  Vegetarian  Breakfast            1\n",
            "950      Amanda Cain  Vegetarian      Lunch            1\n",
            "951  Cheyenne Ramsey  Vegetarian     Dinner            1\n",
            "952     April Miller  Vegetarian  Breakfast            1\n",
            "\n",
            "[953 rows x 4 columns]\n"
          ]
        }
      ],
      "source": [
        "# Query 21: List of receivers based on food type and meal type\n",
        "q21 = pd.read_sql('''\n",
        "    SELECT r.Name, f.Food_Type, f.Meal_Type, COUNT(c.Claim_ID) as Claim_Count\n",
        "    FROM receivers r\n",
        "    JOIN claims c ON r.Receiver_ID = c.Receiver_ID\n",
        "    JOIN food_listings f ON c.Food_ID = f.Food_ID\n",
        "    GROUP BY r.Receiver_ID, r.Name, f.Food_Type, f.Meal_Type\n",
        "    ORDER BY Claim_Count DESC\n",
        "''', conn)\n",
        "print(\"\\nQ21: Receivers by food type and meal type\\n\", q21)"
      ]
    },
    {
      "cell_type": "code",
      "execution_count": 40,
      "metadata": {
        "colab": {
          "base_uri": "https://localhost:8080/"
        },
        "id": "bHFjijPG1oG0",
        "outputId": "3d7f7642-0a2d-4c55-8268-77cdaa63cb78"
      },
      "outputs": [
        {
          "output_type": "stream",
          "name": "stdout",
          "text": [
            "\n",
            "Q22: Claims by each city\n",
            "              Location  Claim_Count\n",
            "0    East Heatherport           12\n",
            "1    Lake Andrewmouth            9\n",
            "2           Jamesfurt            9\n",
            "3       South Kathryn            7\n",
            "4           New Carol            7\n",
            "..                ...          ...\n",
            "463      Anthonyshire            1\n",
            "464    Anthonyborough            1\n",
            "465     Andersonville            1\n",
            "466       Amandashire            1\n",
            "467      Allenborough            1\n",
            "\n",
            "[468 rows x 2 columns]\n"
          ]
        }
      ],
      "source": [
        "# Q22: Claims by each city\n",
        "q22 = pd.read_sql('''\n",
        "    SELECT f.Location, COUNT(c.Claim_ID) as Claim_Count\n",
        "    FROM food_listings f\n",
        "    JOIN claims c ON f.Food_ID = c.Food_ID\n",
        "    GROUP BY f.Location\n",
        "    ORDER BY Claim_Count DESC\n",
        "''', conn)\n",
        "print(\"\\nQ22: Claims by each city\\n\", q22)"
      ]
    },
    {
      "cell_type": "code",
      "execution_count": 41,
      "metadata": {
        "colab": {
          "base_uri": "https://localhost:8080/"
        },
        "id": "p8JCkJot13d5",
        "outputId": "31d03e60-8057-44e6-990e-e2474e8107c6"
      },
      "outputs": [
        {
          "output_type": "stream",
          "name": "stdout",
          "text": [
            "\n",
            "Q23: Providers with highest average quantity\n",
            "                               Name  Avg_Quantity\n",
            "0  Rodriguez, Walker and Singleton          50.0\n",
            "1           Lucas, Bush and Miller          50.0\n",
            "2          Horn, Johnson and Moore          50.0\n",
            "3        Oliver, Cross and Gilbert          50.0\n",
            "4                      Schmidt Ltd          50.0\n"
          ]
        }
      ],
      "source": [
        "# Q23: Providers with highest average quantity per listing\n",
        "q23 = pd.read_sql('''\n",
        "    SELECT p.Name, AVG(f.Quantity) as Avg_Quantity\n",
        "    FROM providers p\n",
        "    JOIN food_listings f ON p.Provider_ID = f.Provider_ID\n",
        "    GROUP BY p.Provider_ID, p.Name\n",
        "    ORDER BY Avg_Quantity DESC\n",
        "    LIMIT 5\n",
        "''', conn)\n",
        "print(\"\\nQ23: Providers with highest average quantity\\n\", q23)"
      ]
    },
    {
      "cell_type": "code",
      "execution_count": 42,
      "metadata": {
        "colab": {
          "base_uri": "https://localhost:8080/"
        },
        "id": "Kt7c-zFZ18xj",
        "outputId": "93b264f4-6a0a-45d7-8f3d-b63e3e7c7939"
      },
      "outputs": [
        {
          "output_type": "stream",
          "name": "stdout",
          "text": [
            "\n",
            "Q24: Percentage of quantity claimed per food type\n",
            "         Food_Type  Total_Quantity  Claimed_Percentage\n",
            "0  Non-Vegetarian           11758           75.242388\n",
            "1           Vegan           11712           71.337090\n",
            "2      Vegetarian           11649           75.173835\n"
          ]
        }
      ],
      "source": [
        "# Q24: Percentage of food quantity claimed per food type\n",
        "q24 = pd.read_sql('''\n",
        "    SELECT f.Food_Type,\n",
        "           SUM(f.Quantity) as Total_Quantity,\n",
        "           SUM(CASE WHEN c.Claim_ID IS NOT NULL THEN f.Quantity ELSE 0 END) * 100.0 / SUM(f.Quantity) as Claimed_Percentage\n",
        "    FROM food_listings f\n",
        "    LEFT JOIN claims c ON f.Food_ID = c.Food_ID\n",
        "    GROUP BY f.Food_Type\n",
        "''', conn)\n",
        "print(\"\\nQ24: Percentage of quantity claimed per food type\\n\", q24)"
      ]
    },
    {
      "cell_type": "code",
      "execution_count": 43,
      "metadata": {
        "id": "AwXkwleqAGif"
      },
      "outputs": [],
      "source": [
        "# Save all query results to CSV\n",
        "q1.to_csv('/content/query1_providers_per_city.csv', index=False)\n",
        "q2.to_csv('/content/query2_receivers_per_city.csv', index=False)\n",
        "q3.to_csv('/content/query3_top_provider_type.csv', index=False)\n",
        "q4_1.to_csv('/content/query4_1_providers_new_jessica.csv', index=False)\n",
        "q4_2.to_csv('/content/query4_2_providers_mendezmouth.csv', index=False)\n",
        "q5.to_csv('/content/query5_top_receivers_claims.csv', index=False)\n",
        "q6.to_csv('/content/query6_total_food_quantity.csv', index=False)\n",
        "q7.to_csv('/content/query7_city_most_listings.csv', index=False)\n",
        "q8.to_csv('/content/query8_common_food_types.csv', index=False)\n",
        "q9.to_csv('/content/query9_claims_per_food_item.csv', index=False)\n",
        "q10.to_csv('/content/query10_top_provider_completed_claims.csv', index=False)\n",
        "q11.to_csv('/content/query11_claim_status_percentage.csv', index=False)\n",
        "q12.to_csv('/content/query12_avg_quantity_per_receiver.csv', index=False)\n",
        "q13.to_csv('/content/query13_most_claimed_meal_type.csv', index=False)\n",
        "q14.to_csv('/content/query14_total_quantity_donated.csv', index=False)\n",
        "q15.to_csv('/content/query15_providers_no_claims.csv', index=False)\n",
        "q16.to_csv('/content/query16_receivers_no_claims.csv', index=False)\n",
        "q17.to_csv('/content/query17_claims_by_meal_status.csv', index=False)\n",
        "q18.to_csv('/content/query18_unclaimed_food_listings.csv', index=False)\n",
        "q19.to_csv('/content/query19_receivers_by_meal_type_city.csv', index=False)\n",
        "q20.to_csv('/content/query20_receiver_type_most_food.csv', index=False)\n",
        "q21.to_csv('/content/query21_receivers_by_food_meal_type.csv', index=False)\n",
        "q22.to_csv('/content/query22_claims_by_city.csv', index=False)\n",
        "q23.to_csv('/content/query23_providers_highest_avg_quantity.csv', index=False)\n",
        "q24.to_csv('/content/query24_percentage_claimed_food_type.csv', index=False)"
      ]
    },
    {
      "cell_type": "code",
      "execution_count": 44,
      "metadata": {
        "colab": {
          "base_uri": "https://localhost:8080/"
        },
        "id": "uF3TqviYE90g",
        "outputId": "a30a80c4-3abb-4c9a-c9fd-1247b1cdea1d"
      },
      "outputs": [
        {
          "output_type": "stream",
          "name": "stdout",
          "text": [
            "Saved files: ['.config', 'query13_most_claimed_meal_type.csv', 'query4_1_providers_new_jessica.csv', 'query5_top_receivers_claims.csv', 'query6_total_food_quantity.csv', 'query19_receivers_by_meal_type_city.csv', 'query14_total_quantity_donated.csv', 'query11_claim_status_percentage.csv', 'query3_top_provider_type.csv', 'query8_common_food_types.csv', 'food_wastage_system.db', 'query9_claims_per_food_item.csv', 'cleaned_food_listings_data.csv', 'query1_providers_per_city.csv', 'query7_city_most_listings.csv', 'query22_claims_by_city.csv', 'query16_receivers_no_claims.csv', 'cleaned_providers_data.csv', 'query18_unclaimed_food_listings.csv', 'cleaned_claims_data.csv', 'query12_avg_quantity_per_receiver.csv', 'query4_2_providers_mendezmouth.csv', 'query21_receivers_by_food_meal_type.csv', 'query17_claims_by_meal_status.csv', 'query23_providers_highest_avg_quantity.csv', 'query15_providers_no_claims.csv', 'cleaned_receivers_data.csv', 'drive', 'query20_receiver_type_most_food.csv', 'query10_top_provider_completed_claims.csv', 'query24_percentage_claimed_food_type.csv', 'query2_receivers_per_city.csv', 'sample_data']\n"
          ]
        }
      ],
      "source": [
        "# Verify saved files\n",
        "import os\n",
        "print(\"Saved files:\", os.listdir('/content/'))"
      ]
    },
    {
      "cell_type": "markdown",
      "source": [
        "**Visualization**"
      ],
      "metadata": {
        "id": "uMk-elBSDoxC"
      }
    },
    {
      "cell_type": "code",
      "execution_count": 45,
      "metadata": {
        "id": "yq5uk-qL7LZd"
      },
      "outputs": [],
      "source": [
        "import matplotlib.pyplot as plt\n",
        "import seaborn as sns"
      ]
    },
    {
      "cell_type": "code",
      "execution_count": 46,
      "metadata": {
        "id": "5qDbbt9y9qnM"
      },
      "outputs": [],
      "source": [
        "# function to save and show plot\n",
        "def save_and_show(plot_name, filename):\n",
        "    plt.tight_layout()\n",
        "    plt.savefig(f'/content/{filename}')\n",
        "    plt.show()\n",
        "    print(f\"Saved {filename}\")"
      ]
    },
    {
      "cell_type": "code",
      "execution_count": 47,
      "metadata": {
        "colab": {
          "base_uri": "https://localhost:8080/",
          "height": 711
        },
        "id": "qT0EpW0Z7NEQ",
        "outputId": "6e7127f1-ceef-4077-a518-d2fd5f6a335b"
      },
      "outputs": [
        {
          "output_type": "stream",
          "name": "stderr",
          "text": [
            "/tmp/ipython-input-2802990188.py:4: FutureWarning: \n",
            "\n",
            "Passing `palette` without assigning `hue` is deprecated and will be removed in v0.14.0. Assign the `x` variable to `hue` and set `legend=False` for the same effect.\n",
            "\n",
            "  sns.barplot(data=q1_top, x='City', y='Provider_Count', palette='Blues_d')\n"
          ]
        },
        {
          "output_type": "display_data",
          "data": {
            "text/plain": [
              "<Figure size 1200x600 with 1 Axes>"
            ],
            "image/png": "[encoded data removed]"
          },
          "metadata": {}
        },
        {
          "output_type": "stream",
          "name": "stdout",
          "text": [
            "Saved viz1_providers_per_city.png\n"
          ]
        }
      ],
      "source": [
        "# Viz 1: Providers per city (Top 10)\n",
        "q1_top = q1.nlargest(10, 'Provider_Count')\n",
        "plt.figure(figsize=(12, 6))\n",
        "sns.barplot(data=q1_top, x='City', y='Provider_Count', palette='Blues_d')\n",
        "plt.title('Top 10 Cities by Number of Providers', fontsize=14)\n",
        "plt.xlabel('City', fontsize=12)\n",
        "plt.ylabel('Provider Count', fontsize=12)\n",
        "plt.xticks(rotation=45, ha='right', fontsize=10)\n",
        "save_and_show('Providers per City', 'viz1_providers_per_city.png')"
      ]
    },
    {
      "cell_type": "code",
      "execution_count": 48,
      "metadata": {
        "colab": {
          "base_uri": "https://localhost:8080/",
          "height": 711
        },
        "id": "pz03h1YS-HCT",
        "outputId": "c722eb8a-451a-41fe-d44f-0552ab34df2d"
      },
      "outputs": [
        {
          "output_type": "stream",
          "name": "stderr",
          "text": [
            "/tmp/ipython-input-1695613625.py:4: FutureWarning: \n",
            "\n",
            "Passing `palette` without assigning `hue` is deprecated and will be removed in v0.14.0. Assign the `x` variable to `hue` and set `legend=False` for the same effect.\n",
            "\n",
            "  sns.barplot(data=q2_top, x='City', y='Receiver_Count', palette='Greens_d')\n"
          ]
        },
        {
          "output_type": "display_data",
          "data": {
            "text/plain": [
              "<Figure size 1200x600 with 1 Axes>"
            ],
            "image/png": "[encoded data removed]"
          },
          "metadata": {}
        },
        {
          "output_type": "stream",
          "name": "stdout",
          "text": [
            "Saved viz2_receivers_per_city.png\n"
          ]
        }
      ],
      "source": [
        "# Viz 2: Receivers per city (Top 10)\n",
        "q2_top = q2.nlargest(10, 'Receiver_Count')\n",
        "plt.figure(figsize=(12, 6))\n",
        "sns.barplot(data=q2_top, x='City', y='Receiver_Count', palette='Greens_d')\n",
        "plt.title('Top 10 Cities by Number of Receivers', fontsize=14)\n",
        "plt.xlabel('City', fontsize=12)\n",
        "plt.ylabel('Receiver Count', fontsize=12)\n",
        "plt.xticks(rotation=45, ha='right', fontsize=10)\n",
        "save_and_show('Receivers per City', 'viz2_receivers_per_city.png')"
      ]
    },
    {
      "cell_type": "code",
      "execution_count": 49,
      "metadata": {
        "colab": {
          "base_uri": "https://localhost:8080/",
          "height": 805
        },
        "id": "500EGIEB-HxF",
        "outputId": "2762fb7b-d86b-4798-8ff9-6e2007974146"
      },
      "outputs": [
        {
          "output_type": "display_data",
          "data": {
            "text/plain": [
              "<Figure size 800x800 with 1 Axes>"
            ],
            "image/png": "[encoded data removed]"
          },
          "metadata": {}
        },
        {
          "output_type": "stream",
          "name": "stdout",
          "text": [
            "Saved viz3_claim_status_pie.png\n"
          ]
        }
      ],
      "source": [
        "# Viz 3: Claim status percentages (Pie chart, already clear)\n",
        "plt.figure(figsize=(8, 8))\n",
        "plt.pie(q11['Percentage'], labels=q11['Status'], autopct='%1.1f%%',\n",
        "        colors=['#ff9999', '#66b3ff', '#99ff99'], textprops={'fontsize': 12})\n",
        "plt.title('Claim Status Distribution', fontsize=14)\n",
        "save_and_show('Claim Status Pie', 'viz3_claim_status_pie.png')"
      ]
    },
    {
      "cell_type": "code",
      "execution_count": 50,
      "metadata": {
        "colab": {
          "base_uri": "https://localhost:8080/",
          "height": 711
        },
        "id": "UoOXw4bz-Tgy",
        "outputId": "8ab45570-0030-4c8f-b553-d942f0b2e875"
      },
      "outputs": [
        {
          "output_type": "stream",
          "name": "stderr",
          "text": [
            "/tmp/ipython-input-1736631228.py:3: FutureWarning: \n",
            "\n",
            "Passing `palette` without assigning `hue` is deprecated and will be removed in v0.14.0. Assign the `x` variable to `hue` and set `legend=False` for the same effect.\n",
            "\n",
            "  sns.barplot(data=q8, x='Food_Type', y='Listing_Count', palette='Oranges_d')\n"
          ]
        },
        {
          "output_type": "display_data",
          "data": {
            "text/plain": [
              "<Figure size 800x600 with 1 Axes>"
            ],
            "image/png": "[encoded data removed]"
          },
          "metadata": {}
        },
        {
          "output_type": "stream",
          "name": "stdout",
          "text": [
            "Saved viz4_food_types.png\n"
          ]
        }
      ],
      "source": [
        "# Viz 4: Food types by listing count (Should be simple, only 3 food types)\n",
        "plt.figure(figsize=(8, 6))\n",
        "sns.barplot(data=q8, x='Food_Type', y='Listing_Count', palette='Oranges_d')\n",
        "plt.title('Food Types by Listing Count', fontsize=14)\n",
        "plt.xlabel('Food Type', fontsize=12)\n",
        "plt.ylabel('Listing Count', fontsize=12)\n",
        "plt.xticks(fontsize=10)\n",
        "save_and_show('Food Types', 'viz4_food_types.png')"
      ]
    },
    {
      "cell_type": "code",
      "execution_count": 51,
      "metadata": {
        "colab": {
          "base_uri": "https://localhost:8080/",
          "height": 711
        },
        "id": "nCs3iLHi-Yjo",
        "outputId": "2281f78a-8b0b-43fd-b8da-3aed2a00bbfa"
      },
      "outputs": [
        {
          "output_type": "stream",
          "name": "stderr",
          "text": [
            "/tmp/ipython-input-1481959886.py:4: FutureWarning: \n",
            "\n",
            "Passing `palette` without assigning `hue` is deprecated and will be removed in v0.14.0. Assign the `x` variable to `hue` and set `legend=False` for the same effect.\n",
            "\n",
            "  sns.barplot(data=q22_top, x='Location', y='Claim_Count', palette='Reds_d')\n"
          ]
        },
        {
          "output_type": "display_data",
          "data": {
            "text/plain": [
              "<Figure size 1200x600 with 1 Axes>"
            ],
            "image/png": "[encoded data removed]"
          },
          "metadata": {}
        },
        {
          "output_type": "stream",
          "name": "stdout",
          "text": [
            "Saved viz5_claims_by_city.png\n"
          ]
        }
      ],
      "source": [
        "# Viz 5: Claims by top 10 cities (Q22)\n",
        "q22_top = q22.nlargest(10, 'Claim_Count')\n",
        "plt.figure(figsize=(12, 6))\n",
        "sns.barplot(data=q22_top, x='Location', y='Claim_Count', palette='Reds_d')\n",
        "plt.title('Top 10 Cities by Number of Claims', fontsize=14)\n",
        "plt.xlabel('City', fontsize=12)\n",
        "plt.ylabel('Claim Count', fontsize=12)\n",
        "plt.xticks(rotation=45, ha='right', fontsize=10)\n",
        "save_and_show('Claims by City', 'viz5_claims_by_city.png')"
      ]
    },
    {
      "cell_type": "code",
      "execution_count": 52,
      "metadata": {
        "colab": {
          "base_uri": "https://localhost:8080/",
          "height": 624
        },
        "id": "JFofGjqU_gOa",
        "outputId": "d3b49c6d-8751-4959-b3a1-a6148606b611"
      },
      "outputs": [
        {
          "output_type": "display_data",
          "data": {
            "text/plain": [
              "<Figure size 1000x600 with 2 Axes>"
            ],
            "image/png": "[encoded data removed]"
          },
          "metadata": {}
        },
        {
          "output_type": "stream",
          "name": "stdout",
          "text": [
            "Saved viz6_claims_heatmap.png\n"
          ]
        }
      ],
      "source": [
        "# Viz 6: Heatmap of claims by meal type and status (Q18)\n",
        "q17_pivot = q17.pivot_table(index='Meal_Type', columns='Status',\n",
        "                           values='Claim_Count', fill_value=0)\n",
        "plt.figure(figsize=(10, 6))\n",
        "sns.heatmap(q17_pivot, annot=True, fmt='.0f', cmap='YlGnBu',\n",
        "            cbar_kws={'label': 'Claim Count'})\n",
        "plt.title('Claims by Meal Type and Status', fontsize=14)\n",
        "plt.xlabel('Claim Status', fontsize=12)\n",
        "plt.ylabel('Meal Type', fontsize=12)\n",
        "save_and_show('Claims Heatmap', 'viz6_claims_heatmap.png')"
      ]
    },
    {
      "cell_type": "code",
      "source": [
        "# Connect to database\n",
        "conn = sqlite3.connect(\"food_wastage_system.db\")\n",
        "cursor = conn.cursor()\n",
        "\n",
        "print(\"Connected to SQLite database!\")"
      ],
      "metadata": {
        "colab": {
          "base_uri": "https://localhost:8080/"
        },
        "id": "7CtG8B2dppFX",
        "outputId": "00d3e60c-4af1-457d-a235-f2fe61e98123"
      },
      "execution_count": 53,
      "outputs": [
        {
          "output_type": "stream",
          "name": "stdout",
          "text": [
            "Connected to SQLite database!\n"
          ]
        }
      ]
    },
    {
      "cell_type": "markdown",
      "source": [
        "- **Implementing CRUD Operation**"
      ],
      "metadata": {
        "id": "aXYfKU5bnhn6"
      }
    },
    {
      "cell_type": "markdown",
      "source": [
        "##### - Creating CRUD Function"
      ],
      "metadata": {
        "id": "91qboBbrt8mt"
      }
    },
    {
      "cell_type": "markdown",
      "source": [
        "###### 1. CREATE Function"
      ],
      "metadata": {
        "id": "apyphKBInvci"
      }
    },
    {
      "cell_type": "code",
      "source": [
        "def create_record(table, data):\n",
        "\n",
        "    columns = ', '.join(data.keys())\n",
        "    placeholders = ', '.join(['?'] * len(data))\n",
        "    query = f\"INSERT INTO {table} ({columns}) VALUES ({placeholders})\"\n",
        "    cursor.execute(query, tuple(data.values()))\n",
        "    conn.commit()\n",
        "    print(f\" New record inserted into {table}!\")"
      ],
      "metadata": {
        "id": "C937BqESnb-L"
      },
      "execution_count": 54,
      "outputs": []
    },
    {
      "cell_type": "markdown",
      "source": [
        "###### 2. READ Function"
      ],
      "metadata": {
        "id": "6r3Y2H8roH4s"
      }
    },
    {
      "cell_type": "code",
      "source": [
        "def read_records(table, condition=None):\n",
        "\n",
        "    query = f\"SELECT * FROM {table}\"\n",
        "    if condition:\n",
        "        query += f\" WHERE {condition}\"\n",
        "    df = pd.read_sql_query(query, conn)\n",
        "    return df"
      ],
      "metadata": {
        "id": "35D6hVSWnhQz"
      },
      "execution_count": 55,
      "outputs": []
    },
    {
      "cell_type": "markdown",
      "source": [
        "###### 3. UPDATE Function"
      ],
      "metadata": {
        "id": "J1_2fsTqoQpI"
      }
    },
    {
      "cell_type": "code",
      "execution_count": 56,
      "metadata": {
        "id": "QuvkS2ty_8W2"
      },
      "outputs": [],
      "source": [
        "def update_record(table, updates, condition):\n",
        "\n",
        "    set_clause = ', '.join([f\"{col} = ?\" for col in updates.keys()])\n",
        "    query = f\"UPDATE {table} SET {set_clause} WHERE {condition}\"\n",
        "    cursor.execute(query, tuple(updates.values()))\n",
        "    conn.commit()\n",
        "    print(f\" Record(s) updated in {table}!\")"
      ]
    },
    {
      "cell_type": "markdown",
      "source": [
        "###### 4. DELETE Function"
      ],
      "metadata": {
        "id": "0ewBmO-WodV8"
      }
    },
    {
      "cell_type": "code",
      "source": [
        "def delete_record(table, condition):\n",
        "\n",
        "    query = f\"DELETE FROM {table} WHERE {condition}\"\n",
        "    cursor.execute(query)\n",
        "    conn.commit()\n",
        "    print(f\" Record(s) deleted from {table}!\")"
      ],
      "metadata": {
        "id": "IWBiRhGkoiYH"
      },
      "execution_count": 57,
      "outputs": []
    },
    {
      "cell_type": "markdown",
      "source": [
        "##### - Providers CRUD"
      ],
      "metadata": {
        "id": "OrIlafMFtpEA"
      }
    },
    {
      "cell_type": "code",
      "source": [
        "# CREATE Example-1\n",
        "create_record(\"providers\", {\n",
        "    \"Provider_ID\": 1001,\n",
        "    \"Name\": \"Yummy Foods\",\n",
        "    \"Type\": \"Restaurant\",\n",
        "    \"Address\": \"swaroop Nagar\",\n",
        "    \"City\": \"Kanpur\",\n",
        "    \"Contact\": \"9999999788\"\n",
        "})"
      ],
      "metadata": {
        "colab": {
          "base_uri": "https://localhost:8080/"
        },
        "id": "6Tylv6mvouws",
        "outputId": "bfc59d8a-b126-4781-c6cd-1a12fd14beae"
      },
      "execution_count": 58,
      "outputs": [
        {
          "output_type": "stream",
          "name": "stdout",
          "text": [
            " New record inserted into providers!\n"
          ]
        }
      ]
    },
    {
      "cell_type": "code",
      "source": [
        "# CREATE Example-2\n",
        "create_record(\"providers\", {\n",
        "    \"Provider_ID\": 1002,\n",
        "    \"Name\": \"Shukla Store\",\n",
        "    \"Type\": \"Supermarket\",\n",
        "    \"Address\": \"Jankipuram\",\n",
        "    \"City\": \"Lucknow\",\n",
        "    \"Contact\": \"9999762219\"\n",
        "})"
      ],
      "metadata": {
        "colab": {
          "base_uri": "https://localhost:8080/"
        },
        "id": "7PHlI8YPp10m",
        "outputId": "7834980c-5cee-4a2a-c901-fda1648182c5"
      },
      "execution_count": 59,
      "outputs": [
        {
          "output_type": "stream",
          "name": "stdout",
          "text": [
            " New record inserted into providers!\n"
          ]
        }
      ]
    },
    {
      "cell_type": "code",
      "source": [
        "# CREATE Example-3\n",
        "create_record(\"providers\", {\n",
        "    \"Provider_ID\": 1003,\n",
        "    \"Name\": \"JJ and Sons\",\n",
        "    \"Type\": \"Grocery Store\",\n",
        "    \"Address\": \"Char Minar\",\n",
        "    \"City\": \"Hyderabad\",\n",
        "    \"Contact\": \"9999942718\"\n",
        "})"
      ],
      "metadata": {
        "colab": {
          "base_uri": "https://localhost:8080/"
        },
        "id": "-NiFFrweqeh4",
        "outputId": "f0f324ad-9713-4361-9e8c-5ed1943e5eb1"
      },
      "execution_count": 60,
      "outputs": [
        {
          "output_type": "stream",
          "name": "stdout",
          "text": [
            " New record inserted into providers!\n"
          ]
        }
      ]
    },
    {
      "cell_type": "code",
      "source": [
        "# READ Example (all records)\n",
        "print(read_records(\"providers\"))"
      ],
      "metadata": {
        "colab": {
          "base_uri": "https://localhost:8080/"
        },
        "id": "W-NsUnj_rHWG",
        "outputId": "8ae2dcb6-eac3-4656-c429-e2b155cafb4a"
      },
      "execution_count": 61,
      "outputs": [
        {
          "output_type": "stream",
          "name": "stdout",
          "text": [
            "      Provider_ID                         Name           Type  \\\n",
            "0               1             Gonzales-Cochran    Supermarket   \n",
            "1               2  Nielsen, Johnson and Fuller  Grocery Store   \n",
            "2               3                 Miller-Black    Supermarket   \n",
            "3               4   Clark, Prince and Williams  Grocery Store   \n",
            "4               5               Coleman-Farley  Grocery Store   \n",
            "...           ...                          ...            ...   \n",
            "998           999                    Moody Ltd  Grocery Store   \n",
            "999          1000               Jenkins-Brooks     Restaurant   \n",
            "1000         1001                  Yummy Foods     Restaurant   \n",
            "1001         1002                 Shukla Store    Supermarket   \n",
            "1002         1003                  JJ and Sons  Grocery Store   \n",
            "\n",
            "                                                Address            City  \\\n",
            "0     74347 Christopher Extensions\\nAndreamouth, OK ...     New Jessica   \n",
            "1              91228 Hanson Stream\\nWelchtown, OR 27136     East Sheena   \n",
            "2     561 Martinez Point Suite 507\\nGuzmanchester, W...  Lake Jesusview   \n",
            "3        467 Bell Trail Suite 409\\nPort Jesus, IA 61188     Mendezmouth   \n",
            "4     078 Matthew Creek Apt. 319\\nSaraborough, MA 53978   Valentineside   \n",
            "...                                                 ...             ...   \n",
            "998     17580 Ernest Hills\\nLake Michaelmouth, OR 56416   Stevenchester   \n",
            "999   53390 Evans Rapids Suite 982\\nLake Meghan, MO ...     Brendantown   \n",
            "1000                                      swaroop Nagar          Kanpur   \n",
            "1001                                         Jankipuram         Lucknow   \n",
            "1002                                         Char Minar       Hyderabad   \n",
            "\n",
            "                   Contact  \n",
            "0          +1-600-220-0480  \n",
            "1     +1-925-283-8901x6297  \n",
            "2         001-517-295-2206  \n",
            "3         556.944.8935x401  \n",
            "4             193.714.6577  \n",
            "...                    ...  \n",
            "998      637.300.3664x4880  \n",
            "999     266-324-3458x95775  \n",
            "1000            9999999788  \n",
            "1001            9999762219  \n",
            "1002            9999942718  \n",
            "\n",
            "[1003 rows x 6 columns]\n"
          ]
        }
      ]
    },
    {
      "cell_type": "code",
      "source": [
        "# READ Example (filtered)\n",
        "print(read_records(\"providers\", \"City='Lucknow'\"))"
      ],
      "metadata": {
        "colab": {
          "base_uri": "https://localhost:8080/"
        },
        "id": "uwSBnMLXrKlm",
        "outputId": "91f97de2-3de8-4bb5-e96c-4c6369129ac8"
      },
      "execution_count": 62,
      "outputs": [
        {
          "output_type": "stream",
          "name": "stdout",
          "text": [
            "   Provider_ID          Name         Type     Address     City     Contact\n",
            "0         1002  Shukla Store  Supermarket  Jankipuram  Lucknow  9999762219\n"
          ]
        }
      ]
    },
    {
      "cell_type": "code",
      "source": [
        "# READ Example (filtered)\n",
        "print(read_records(\"providers\", \"City='Kanpur'\"))"
      ],
      "metadata": {
        "colab": {
          "base_uri": "https://localhost:8080/"
        },
        "id": "rKNrdbgxrOx9",
        "outputId": "66fc1e02-b206-4bc2-eb35-62bdb4400cee"
      },
      "execution_count": 63,
      "outputs": [
        {
          "output_type": "stream",
          "name": "stdout",
          "text": [
            "   Provider_ID         Name        Type        Address    City     Contact\n",
            "0         1001  Yummy Foods  Restaurant  swaroop Nagar  Kanpur  9999999788\n"
          ]
        }
      ]
    },
    {
      "cell_type": "code",
      "source": [
        "# READ Example (filtered)\n",
        "print(read_records(\"providers\", \"City='Hyderabad'\"))"
      ],
      "metadata": {
        "colab": {
          "base_uri": "https://localhost:8080/"
        },
        "id": "auikIC-PrTVj",
        "outputId": "c572e2a4-b788-4ee1-dcf4-166ed9ad98a8"
      },
      "execution_count": 64,
      "outputs": [
        {
          "output_type": "stream",
          "name": "stdout",
          "text": [
            "   Provider_ID         Name           Type     Address       City     Contact\n",
            "0         1003  JJ and Sons  Grocery Store  Char Minar  Hyderabad  9999942718\n"
          ]
        }
      ]
    },
    {
      "cell_type": "code",
      "source": [
        "# UPDATE Example\n",
        "update_record(\"providers\", {\"City\": \"Bangalore\"}, \"Provider_ID=1001\")"
      ],
      "metadata": {
        "colab": {
          "base_uri": "https://localhost:8080/"
        },
        "id": "2KIRIdQ_raIJ",
        "outputId": "cf910839-452a-4d2d-8651-2081de172ac8"
      },
      "execution_count": 65,
      "outputs": [
        {
          "output_type": "stream",
          "name": "stdout",
          "text": [
            " Record(s) updated in providers!\n"
          ]
        }
      ]
    },
    {
      "cell_type": "code",
      "source": [
        "# READ Example (all records)\n",
        "print(read_records(\"providers\"))"
      ],
      "metadata": {
        "colab": {
          "base_uri": "https://localhost:8080/"
        },
        "id": "zU2NU-VkrjmL",
        "outputId": "b7ad3d7b-0222-4ddd-9d88-7cfde5fee6a1"
      },
      "execution_count": 66,
      "outputs": [
        {
          "output_type": "stream",
          "name": "stdout",
          "text": [
            "      Provider_ID                         Name           Type  \\\n",
            "0               1             Gonzales-Cochran    Supermarket   \n",
            "1               2  Nielsen, Johnson and Fuller  Grocery Store   \n",
            "2               3                 Miller-Black    Supermarket   \n",
            "3               4   Clark, Prince and Williams  Grocery Store   \n",
            "4               5               Coleman-Farley  Grocery Store   \n",
            "...           ...                          ...            ...   \n",
            "998           999                    Moody Ltd  Grocery Store   \n",
            "999          1000               Jenkins-Brooks     Restaurant   \n",
            "1000         1001                  Yummy Foods     Restaurant   \n",
            "1001         1002                 Shukla Store    Supermarket   \n",
            "1002         1003                  JJ and Sons  Grocery Store   \n",
            "\n",
            "                                                Address            City  \\\n",
            "0     74347 Christopher Extensions\\nAndreamouth, OK ...     New Jessica   \n",
            "1              91228 Hanson Stream\\nWelchtown, OR 27136     East Sheena   \n",
            "2     561 Martinez Point Suite 507\\nGuzmanchester, W...  Lake Jesusview   \n",
            "3        467 Bell Trail Suite 409\\nPort Jesus, IA 61188     Mendezmouth   \n",
            "4     078 Matthew Creek Apt. 319\\nSaraborough, MA 53978   Valentineside   \n",
            "...                                                 ...             ...   \n",
            "998     17580 Ernest Hills\\nLake Michaelmouth, OR 56416   Stevenchester   \n",
            "999   53390 Evans Rapids Suite 982\\nLake Meghan, MO ...     Brendantown   \n",
            "1000                                      swaroop Nagar       Bangalore   \n",
            "1001                                         Jankipuram         Lucknow   \n",
            "1002                                         Char Minar       Hyderabad   \n",
            "\n",
            "                   Contact  \n",
            "0          +1-600-220-0480  \n",
            "1     +1-925-283-8901x6297  \n",
            "2         001-517-295-2206  \n",
            "3         556.944.8935x401  \n",
            "4             193.714.6577  \n",
            "...                    ...  \n",
            "998      637.300.3664x4880  \n",
            "999     266-324-3458x95775  \n",
            "1000            9999999788  \n",
            "1001            9999762219  \n",
            "1002            9999942718  \n",
            "\n",
            "[1003 rows x 6 columns]\n"
          ]
        }
      ]
    },
    {
      "cell_type": "code",
      "source": [
        "# DELETE Example\n",
        "delete_record(\"providers\", \"Provider_ID=1001\")"
      ],
      "metadata": {
        "colab": {
          "base_uri": "https://localhost:8080/"
        },
        "id": "sVrRxRxSrs7h",
        "outputId": "359dd841-ef06-4cb8-bf95-58dac3fbaf27"
      },
      "execution_count": 67,
      "outputs": [
        {
          "output_type": "stream",
          "name": "stdout",
          "text": [
            " Record(s) deleted from providers!\n"
          ]
        }
      ]
    },
    {
      "cell_type": "code",
      "source": [
        "# READ Example (all records)\n",
        "print(read_records(\"providers\"))"
      ],
      "metadata": {
        "colab": {
          "base_uri": "https://localhost:8080/"
        },
        "id": "FITacfjjrwQI",
        "outputId": "e144c7c2-6acc-4af4-c023-555809046f45"
      },
      "execution_count": 68,
      "outputs": [
        {
          "output_type": "stream",
          "name": "stdout",
          "text": [
            "      Provider_ID                         Name           Type  \\\n",
            "0               1             Gonzales-Cochran    Supermarket   \n",
            "1               2  Nielsen, Johnson and Fuller  Grocery Store   \n",
            "2               3                 Miller-Black    Supermarket   \n",
            "3               4   Clark, Prince and Williams  Grocery Store   \n",
            "4               5               Coleman-Farley  Grocery Store   \n",
            "...           ...                          ...            ...   \n",
            "997           998                  Novak Group  Grocery Store   \n",
            "998           999                    Moody Ltd  Grocery Store   \n",
            "999          1000               Jenkins-Brooks     Restaurant   \n",
            "1000         1002                 Shukla Store    Supermarket   \n",
            "1001         1003                  JJ and Sons  Grocery Store   \n",
            "\n",
            "                                                Address            City  \\\n",
            "0     74347 Christopher Extensions\\nAndreamouth, OK ...     New Jessica   \n",
            "1              91228 Hanson Stream\\nWelchtown, OR 27136     East Sheena   \n",
            "2     561 Martinez Point Suite 507\\nGuzmanchester, W...  Lake Jesusview   \n",
            "3        467 Bell Trail Suite 409\\nPort Jesus, IA 61188     Mendezmouth   \n",
            "4     078 Matthew Creek Apt. 319\\nSaraborough, MA 53978   Valentineside   \n",
            "...                                                 ...             ...   \n",
            "997             934 Zachary Run\\nMelissamouth, WY 02729      Joshuastad   \n",
            "998     17580 Ernest Hills\\nLake Michaelmouth, OR 56416   Stevenchester   \n",
            "999   53390 Evans Rapids Suite 982\\nLake Meghan, MO ...     Brendantown   \n",
            "1000                                         Jankipuram         Lucknow   \n",
            "1001                                         Char Minar       Hyderabad   \n",
            "\n",
            "                   Contact  \n",
            "0          +1-600-220-0480  \n",
            "1     +1-925-283-8901x6297  \n",
            "2         001-517-295-2206  \n",
            "3         556.944.8935x401  \n",
            "4             193.714.6577  \n",
            "...                    ...  \n",
            "997     (903)642-1969x3300  \n",
            "998      637.300.3664x4880  \n",
            "999     266-324-3458x95775  \n",
            "1000            9999762219  \n",
            "1001            9999942718  \n",
            "\n",
            "[1002 rows x 6 columns]\n"
          ]
        }
      ]
    },
    {
      "cell_type": "markdown",
      "source": [
        "##### -  Receivers CRUD"
      ],
      "metadata": {
        "id": "REPBMeb0udIp"
      }
    },
    {
      "cell_type": "code",
      "source": [
        "# CREATE Example-1\n",
        "create_record(\"receivers\", {\n",
        "    \"Receiver_ID\": 1001,\n",
        "    \"Name\": \"Community Kitchen\",\n",
        "    \"Type\": \"NGO\",\n",
        "    \"City\": \"Lucknow\",\n",
        "    \"Contact\": \"9998887777\"\n",
        "})"
      ],
      "metadata": {
        "colab": {
          "base_uri": "https://localhost:8080/"
        },
        "id": "L0utwx5Vr6F0",
        "outputId": "1bf083b0-370a-4fd4-b9ba-0b0f26c67984"
      },
      "execution_count": 69,
      "outputs": [
        {
          "output_type": "stream",
          "name": "stdout",
          "text": [
            " New record inserted into receivers!\n"
          ]
        }
      ]
    },
    {
      "cell_type": "code",
      "source": [
        "# CREATE Example-2\n",
        "create_record(\"receivers\", {\n",
        "    \"Receiver_ID\": 1002,\n",
        "    \"Name\": \"Aditi Shukla\",\n",
        "    \"Type\": \"Individual\",\n",
        "    \"City\": \"kanpur\",\n",
        "    \"Contact\": \"9999665544\"\n",
        "})"
      ],
      "metadata": {
        "colab": {
          "base_uri": "https://localhost:8080/"
        },
        "id": "EmzCSOMjwQkE",
        "outputId": "e40c2182-405e-4c3f-fe21-5818c77a76d6"
      },
      "execution_count": 70,
      "outputs": [
        {
          "output_type": "stream",
          "name": "stdout",
          "text": [
            " New record inserted into receivers!\n"
          ]
        }
      ]
    },
    {
      "cell_type": "code",
      "source": [
        "# CREATE Example-3\n",
        "create_record(\"receivers\", {\n",
        "    \"Receiver_ID\": 1003,\n",
        "    \"Name\": \"Give and Take\",\n",
        "    \"Type\": \"Shelter\",\n",
        "    \"City\": \"Hyderabad\",\n",
        "    \"Contact\": \"9999112233\"\n",
        "})"
      ],
      "metadata": {
        "colab": {
          "base_uri": "https://localhost:8080/"
        },
        "id": "L0MMExpwwy8s",
        "outputId": "4dad25ab-945d-4f42-f6e9-1ce8c0bc833f"
      },
      "execution_count": 71,
      "outputs": [
        {
          "output_type": "stream",
          "name": "stdout",
          "text": [
            " New record inserted into receivers!\n"
          ]
        }
      ]
    },
    {
      "cell_type": "code",
      "source": [
        "# READ all\n",
        "print(read_records(\"receivers\"))"
      ],
      "metadata": {
        "colab": {
          "base_uri": "https://localhost:8080/"
        },
        "id": "D7DYQNzaxZMb",
        "outputId": "91104462-f1a9-487e-daac-403797af71b8"
      },
      "execution_count": 72,
      "outputs": [
        {
          "output_type": "stream",
          "name": "stdout",
          "text": [
            "      Receiver_ID               Name        Type               City  \\\n",
            "0               1       Donald Gomez     Shelter     Port Carlburgh   \n",
            "1               2       Laurie Ramos  Individual         Lewisburgh   \n",
            "2               3       Ashley Mckee         NGO  South Randalltown   \n",
            "3               4         Erika Rose         NGO   South Shaneville   \n",
            "4               5        John Romero  Individual          Bakerport   \n",
            "...           ...                ...         ...                ...   \n",
            "998           999    Cheyenne Ramsey         NGO       Lake Jeffery   \n",
            "999          1000       April Miller     Shelter      Shelbychester   \n",
            "1000         1001  Community Kitchen         NGO            Lucknow   \n",
            "1001         1002       Aditi Shukla  Individual             kanpur   \n",
            "1002         1003      Give and Take     Shelter          Hyderabad   \n",
            "\n",
            "                     Contact  \n",
            "0              (955)922-5295  \n",
            "1               761.042.1570  \n",
            "2           691-023-0094x856  \n",
            "3                 8296491111  \n",
            "4               067.491.0154  \n",
            "...                      ...  \n",
            "998   001-326-320-4816x15300  \n",
            "999       894-873-2652x23999  \n",
            "1000              9998887777  \n",
            "1001              9999665544  \n",
            "1002              9999112233  \n",
            "\n",
            "[1003 rows x 5 columns]\n"
          ]
        }
      ]
    },
    {
      "cell_type": "code",
      "source": [
        "# READ filtered\n",
        "print(read_records(\"receivers\", \"City='Lucknow'\"))"
      ],
      "metadata": {
        "colab": {
          "base_uri": "https://localhost:8080/"
        },
        "id": "ec6LZDazxaK0",
        "outputId": "7151ab2b-9d69-4f43-b879-030b96b70f72"
      },
      "execution_count": 73,
      "outputs": [
        {
          "output_type": "stream",
          "name": "stdout",
          "text": [
            "   Receiver_ID               Name Type     City     Contact\n",
            "0         1001  Community Kitchen  NGO  Lucknow  9998887777\n"
          ]
        }
      ]
    },
    {
      "cell_type": "code",
      "source": [
        "# READ filtered\n",
        "print(read_records(\"receivers\", \"City='kanpur'\"))"
      ],
      "metadata": {
        "colab": {
          "base_uri": "https://localhost:8080/"
        },
        "id": "22x6I3GcxlXF",
        "outputId": "7d6bdee0-08dd-411a-b610-a09ef4ed1a42"
      },
      "execution_count": 74,
      "outputs": [
        {
          "output_type": "stream",
          "name": "stdout",
          "text": [
            "   Receiver_ID          Name        Type    City     Contact\n",
            "0         1002  Aditi Shukla  Individual  kanpur  9999665544\n"
          ]
        }
      ]
    },
    {
      "cell_type": "code",
      "source": [
        "# UPDATE\n",
        "update_record(\"receivers\", {\"City\": \"Noida\"}, \"Receiver_ID=1002\")"
      ],
      "metadata": {
        "colab": {
          "base_uri": "https://localhost:8080/"
        },
        "id": "LOypVD8AxzdP",
        "outputId": "56d0b18f-029f-421a-adfc-1151f6b98053"
      },
      "execution_count": 75,
      "outputs": [
        {
          "output_type": "stream",
          "name": "stdout",
          "text": [
            " Record(s) updated in receivers!\n"
          ]
        }
      ]
    },
    {
      "cell_type": "code",
      "source": [
        "# READ all\n",
        "print(read_records(\"receivers\"))"
      ],
      "metadata": {
        "colab": {
          "base_uri": "https://localhost:8080/"
        },
        "id": "U8plqt1fyoxe",
        "outputId": "b9a10417-dfb5-4c0b-db76-4cff8a5e15c2"
      },
      "execution_count": 76,
      "outputs": [
        {
          "output_type": "stream",
          "name": "stdout",
          "text": [
            "      Receiver_ID               Name        Type               City  \\\n",
            "0               1       Donald Gomez     Shelter     Port Carlburgh   \n",
            "1               2       Laurie Ramos  Individual         Lewisburgh   \n",
            "2               3       Ashley Mckee         NGO  South Randalltown   \n",
            "3               4         Erika Rose         NGO   South Shaneville   \n",
            "4               5        John Romero  Individual          Bakerport   \n",
            "...           ...                ...         ...                ...   \n",
            "998           999    Cheyenne Ramsey         NGO       Lake Jeffery   \n",
            "999          1000       April Miller     Shelter      Shelbychester   \n",
            "1000         1001  Community Kitchen         NGO            Lucknow   \n",
            "1001         1002       Aditi Shukla  Individual              Noida   \n",
            "1002         1003      Give and Take     Shelter          Hyderabad   \n",
            "\n",
            "                     Contact  \n",
            "0              (955)922-5295  \n",
            "1               761.042.1570  \n",
            "2           691-023-0094x856  \n",
            "3                 8296491111  \n",
            "4               067.491.0154  \n",
            "...                      ...  \n",
            "998   001-326-320-4816x15300  \n",
            "999       894-873-2652x23999  \n",
            "1000              9998887777  \n",
            "1001              9999665544  \n",
            "1002              9999112233  \n",
            "\n",
            "[1003 rows x 5 columns]\n"
          ]
        }
      ]
    },
    {
      "cell_type": "code",
      "source": [
        "# DELETE\n",
        "delete_record(\"receivers\", \"Receiver_ID=1002\")"
      ],
      "metadata": {
        "colab": {
          "base_uri": "https://localhost:8080/"
        },
        "id": "UXiwkpdoy_u7",
        "outputId": "618ff7f4-e54b-4e1c-bdac-1a4a216043d7"
      },
      "execution_count": 77,
      "outputs": [
        {
          "output_type": "stream",
          "name": "stdout",
          "text": [
            " Record(s) deleted from receivers!\n"
          ]
        }
      ]
    },
    {
      "cell_type": "code",
      "source": [
        "# READ all\n",
        "print(read_records(\"receivers\"))"
      ],
      "metadata": {
        "colab": {
          "base_uri": "https://localhost:8080/"
        },
        "id": "Raqes6q7zGw7",
        "outputId": "1bc94967-86fa-4396-ee8d-3db0616a4c82"
      },
      "execution_count": 78,
      "outputs": [
        {
          "output_type": "stream",
          "name": "stdout",
          "text": [
            "      Receiver_ID               Name        Type               City  \\\n",
            "0               1       Donald Gomez     Shelter     Port Carlburgh   \n",
            "1               2       Laurie Ramos  Individual         Lewisburgh   \n",
            "2               3       Ashley Mckee         NGO  South Randalltown   \n",
            "3               4         Erika Rose         NGO   South Shaneville   \n",
            "4               5        John Romero  Individual          Bakerport   \n",
            "...           ...                ...         ...                ...   \n",
            "997           998    Theodore Briggs  Individual       South Sandra   \n",
            "998           999    Cheyenne Ramsey         NGO       Lake Jeffery   \n",
            "999          1000       April Miller     Shelter      Shelbychester   \n",
            "1000         1001  Community Kitchen         NGO            Lucknow   \n",
            "1001         1003      Give and Take     Shelter          Hyderabad   \n",
            "\n",
            "                     Contact  \n",
            "0              (955)922-5295  \n",
            "1               761.042.1570  \n",
            "2           691-023-0094x856  \n",
            "3                 8296491111  \n",
            "4               067.491.0154  \n",
            "...                      ...  \n",
            "997        930-609-9442x5031  \n",
            "998   001-326-320-4816x15300  \n",
            "999       894-873-2652x23999  \n",
            "1000              9998887777  \n",
            "1001              9999112233  \n",
            "\n",
            "[1002 rows x 5 columns]\n"
          ]
        }
      ]
    },
    {
      "cell_type": "markdown",
      "source": [
        "###### - Food Listings CRUD"
      ],
      "metadata": {
        "id": "ODhVOvyzzTZI"
      }
    },
    {
      "cell_type": "code",
      "source": [
        "# CREATE Example-1\n",
        "create_record(\"food_listings\", {\n",
        "    \"Food_ID\": 1001,\n",
        "    \"Food_Name\": \"Bread\",\n",
        "    \"Quantity\": 50,\n",
        "    \"Expiry_Date\": \"2025-08-20\",\n",
        "    \"Provider_ID\": 1003,\n",
        "    \"Provider_Type\": \"Grocery Store\",\n",
        "    \"Location\": \"Lucknow\",\n",
        "    \"Food_Type\": \"Vegetarian\",\n",
        "    \"Meal_Type\": \"Breakfast\"\n",
        "\n",
        "})"
      ],
      "metadata": {
        "colab": {
          "base_uri": "https://localhost:8080/"
        },
        "id": "FznUev7YzTDt",
        "outputId": "f072bffe-78df-4270-8e27-d85668c61f82"
      },
      "execution_count": 79,
      "outputs": [
        {
          "output_type": "stream",
          "name": "stdout",
          "text": [
            " New record inserted into food_listings!\n"
          ]
        }
      ]
    },
    {
      "cell_type": "code",
      "source": [
        "# CREATE Example-2\n",
        "create_record(\"food_listings\", {\n",
        "    \"Food_ID\": 1002,\n",
        "    \"Food_Name\": \"Soup\",\n",
        "    \"Quantity\": 20,\n",
        "    \"Expiry_Date\": \"2025-08-20\",\n",
        "    \"Provider_ID\": 1002,\n",
        "    \"Provider_Type\": \"Restaurant\",\n",
        "    \"Location\": \"Kanpur\",\n",
        "    \"Food_Type\": \"Non-Vegetarian\",\n",
        "    \"Meal_Type\": \"Dinner\"\n",
        "\n",
        "})"
      ],
      "metadata": {
        "colab": {
          "base_uri": "https://localhost:8080/"
        },
        "id": "Tyt8LG9r14Sq",
        "outputId": "ccb74c18-1a05-442f-d6ac-22af47e20464"
      },
      "execution_count": 80,
      "outputs": [
        {
          "output_type": "stream",
          "name": "stdout",
          "text": [
            " New record inserted into food_listings!\n"
          ]
        }
      ]
    },
    {
      "cell_type": "code",
      "source": [
        "# READ all\n",
        "print(read_records(\"food_listings\"))"
      ],
      "metadata": {
        "colab": {
          "base_uri": "https://localhost:8080/"
        },
        "id": "o9IlEiG52mlS",
        "outputId": "878d1e47-70fb-4bf5-9698-a2f881bdd827"
      },
      "execution_count": 81,
      "outputs": [
        {
          "output_type": "stream",
          "name": "stdout",
          "text": [
            "      Food_ID Food_Name  Quantity Expiry_Date  Provider_ID     Provider_Type  \\\n",
            "0           1     Bread        43  2025-03-17          110     Grocery Store   \n",
            "1           2      Soup        22  2025-03-24          791     Grocery Store   \n",
            "2           3    Fruits        46  2025-03-28          478  Catering Service   \n",
            "3           4    Fruits        15  2025-03-16          930        Restaurant   \n",
            "4           5      Soup        14  2025-03-19          279        Restaurant   \n",
            "...       ...       ...       ...         ...          ...               ...   \n",
            "997       998    Fruits         6  2025-03-22          444        Restaurant   \n",
            "998       999     Pasta        15  2025-03-30          702       Supermarket   \n",
            "999      1000     Salad        18  2025-03-19          155       Supermarket   \n",
            "1000     1001     Bread        50  2025-08-20         1003     Grocery Store   \n",
            "1001     1002      Soup        20  2025-08-20         1002        Restaurant   \n",
            "\n",
            "              Location       Food_Type  Meal_Type  \n",
            "0     South Kellyville  Non-Vegetarian  Breakfast  \n",
            "1           West James  Non-Vegetarian     Dinner  \n",
            "2          Lake Regina           Vegan  Breakfast  \n",
            "3            Kellytown           Vegan      Lunch  \n",
            "4           Garciaport           Vegan     Dinner  \n",
            "...                ...             ...        ...  \n",
            "997          New Billy  Non-Vegetarian     Dinner  \n",
            "998      Lake Mistyton  Non-Vegetarian      Lunch  \n",
            "999        Charlesview  Non-Vegetarian     Dinner  \n",
            "1000           Lucknow      Vegetarian  Breakfast  \n",
            "1001            Kanpur  Non-Vegetarian     Dinner  \n",
            "\n",
            "[1002 rows x 9 columns]\n"
          ]
        }
      ]
    },
    {
      "cell_type": "code",
      "source": [
        "# UPDATE\n",
        "update_record(\"food_listings\", {\"Quantity\": 70}, \"Food_ID=1001\")"
      ],
      "metadata": {
        "colab": {
          "base_uri": "https://localhost:8080/"
        },
        "id": "trzSHIMV2wOH",
        "outputId": "82ce0003-8fdf-4a05-bbaf-de6655ec28e0"
      },
      "execution_count": 82,
      "outputs": [
        {
          "output_type": "stream",
          "name": "stdout",
          "text": [
            " Record(s) updated in food_listings!\n"
          ]
        }
      ]
    },
    {
      "cell_type": "code",
      "source": [
        "# READ all\n",
        "print(read_records(\"food_listings\"))"
      ],
      "metadata": {
        "colab": {
          "base_uri": "https://localhost:8080/"
        },
        "id": "BUjREy6Z3Cda",
        "outputId": "6598c274-8b31-4d76-a300-f1fdb4cba7b8"
      },
      "execution_count": 83,
      "outputs": [
        {
          "output_type": "stream",
          "name": "stdout",
          "text": [
            "      Food_ID Food_Name  Quantity Expiry_Date  Provider_ID     Provider_Type  \\\n",
            "0           1     Bread        43  2025-03-17          110     Grocery Store   \n",
            "1           2      Soup        22  2025-03-24          791     Grocery Store   \n",
            "2           3    Fruits        46  2025-03-28          478  Catering Service   \n",
            "3           4    Fruits        15  2025-03-16          930        Restaurant   \n",
            "4           5      Soup        14  2025-03-19          279        Restaurant   \n",
            "...       ...       ...       ...         ...          ...               ...   \n",
            "997       998    Fruits         6  2025-03-22          444        Restaurant   \n",
            "998       999     Pasta        15  2025-03-30          702       Supermarket   \n",
            "999      1000     Salad        18  2025-03-19          155       Supermarket   \n",
            "1000     1001     Bread        70  2025-08-20         1003     Grocery Store   \n",
            "1001     1002      Soup        20  2025-08-20         1002        Restaurant   \n",
            "\n",
            "              Location       Food_Type  Meal_Type  \n",
            "0     South Kellyville  Non-Vegetarian  Breakfast  \n",
            "1           West James  Non-Vegetarian     Dinner  \n",
            "2          Lake Regina           Vegan  Breakfast  \n",
            "3            Kellytown           Vegan      Lunch  \n",
            "4           Garciaport           Vegan     Dinner  \n",
            "...                ...             ...        ...  \n",
            "997          New Billy  Non-Vegetarian     Dinner  \n",
            "998      Lake Mistyton  Non-Vegetarian      Lunch  \n",
            "999        Charlesview  Non-Vegetarian     Dinner  \n",
            "1000           Lucknow      Vegetarian  Breakfast  \n",
            "1001            Kanpur  Non-Vegetarian     Dinner  \n",
            "\n",
            "[1002 rows x 9 columns]\n"
          ]
        }
      ]
    },
    {
      "cell_type": "code",
      "source": [
        "# DELETE\n",
        "delete_record(\"food_listings\", \"Food_ID=1002\")"
      ],
      "metadata": {
        "colab": {
          "base_uri": "https://localhost:8080/"
        },
        "id": "Re_0Akac3Jqc",
        "outputId": "1f9728e1-1b0d-4385-f733-ef9a64877616"
      },
      "execution_count": 84,
      "outputs": [
        {
          "output_type": "stream",
          "name": "stdout",
          "text": [
            " Record(s) deleted from food_listings!\n"
          ]
        }
      ]
    },
    {
      "cell_type": "code",
      "source": [
        "# READ all\n",
        "print(read_records(\"food_listings\"))"
      ],
      "metadata": {
        "colab": {
          "base_uri": "https://localhost:8080/"
        },
        "id": "Cz3j3k0C3P5c",
        "outputId": "2726e8bb-78c3-48e6-fa5b-3ce98bc1e5f8"
      },
      "execution_count": 85,
      "outputs": [
        {
          "output_type": "stream",
          "name": "stdout",
          "text": [
            "      Food_ID Food_Name  Quantity Expiry_Date  Provider_ID     Provider_Type  \\\n",
            "0           1     Bread        43  2025-03-17          110     Grocery Store   \n",
            "1           2      Soup        22  2025-03-24          791     Grocery Store   \n",
            "2           3    Fruits        46  2025-03-28          478  Catering Service   \n",
            "3           4    Fruits        15  2025-03-16          930        Restaurant   \n",
            "4           5      Soup        14  2025-03-19          279        Restaurant   \n",
            "...       ...       ...       ...         ...          ...               ...   \n",
            "996       997      Fish        22  2025-03-18           35     Grocery Store   \n",
            "997       998    Fruits         6  2025-03-22          444        Restaurant   \n",
            "998       999     Pasta        15  2025-03-30          702       Supermarket   \n",
            "999      1000     Salad        18  2025-03-19          155       Supermarket   \n",
            "1000     1001     Bread        70  2025-08-20         1003     Grocery Store   \n",
            "\n",
            "              Location       Food_Type  Meal_Type  \n",
            "0     South Kellyville  Non-Vegetarian  Breakfast  \n",
            "1           West James  Non-Vegetarian     Dinner  \n",
            "2          Lake Regina           Vegan  Breakfast  \n",
            "3            Kellytown           Vegan      Lunch  \n",
            "4           Garciaport           Vegan     Dinner  \n",
            "...                ...             ...        ...  \n",
            "996      Andersonmouth      Vegetarian  Breakfast  \n",
            "997          New Billy  Non-Vegetarian     Dinner  \n",
            "998      Lake Mistyton  Non-Vegetarian      Lunch  \n",
            "999        Charlesview  Non-Vegetarian     Dinner  \n",
            "1000           Lucknow      Vegetarian  Breakfast  \n",
            "\n",
            "[1001 rows x 9 columns]\n"
          ]
        }
      ]
    },
    {
      "cell_type": "markdown",
      "source": [
        "##### - Claims CRUD"
      ],
      "metadata": {
        "id": "GAxwY9qf3cL7"
      }
    },
    {
      "cell_type": "code",
      "source": [
        "# CREATE Example-1\n",
        "create_record(\"claims\", {\n",
        "    \"Claim_ID\": 1001,\n",
        "    \"Food_ID\": 1001,\n",
        "    \"Receiver_ID\": 1001,\n",
        "    \"Status\": \"Pending\",\n",
        "    \"Timestamp\":\"2025-08-20 7:30\"\n",
        "})"
      ],
      "metadata": {
        "colab": {
          "base_uri": "https://localhost:8080/"
        },
        "id": "XetajWsv3iNY",
        "outputId": "b64127ea-b57c-4de6-f569-c2e8b245aa87"
      },
      "execution_count": 86,
      "outputs": [
        {
          "output_type": "stream",
          "name": "stdout",
          "text": [
            " New record inserted into claims!\n"
          ]
        }
      ]
    },
    {
      "cell_type": "code",
      "source": [
        "# CREATE Example-1\n",
        "create_record(\"claims\", {\n",
        "    \"Claim_ID\": 1002,\n",
        "    \"Food_ID\": 1002,\n",
        "    \"Receiver_ID\": 1002,\n",
        "    \"Status\": \"Completed\",\n",
        "    \"Timestamp\":\"2025-08-20 10:30\"\n",
        "})"
      ],
      "metadata": {
        "colab": {
          "base_uri": "https://localhost:8080/"
        },
        "id": "UiJzSA4g4ro9",
        "outputId": "e0173f6c-a20d-4121-9ddc-4636bb4cee09"
      },
      "execution_count": 87,
      "outputs": [
        {
          "output_type": "stream",
          "name": "stdout",
          "text": [
            " New record inserted into claims!\n"
          ]
        }
      ]
    },
    {
      "cell_type": "code",
      "source": [
        "# READ all\n",
        "print(read_records(\"claims\"))"
      ],
      "metadata": {
        "colab": {
          "base_uri": "https://localhost:8080/"
        },
        "id": "BzVPYJtD44E1",
        "outputId": "8649e14e-f844-4884-dcc5-48bcbb1e88ad"
      },
      "execution_count": 88,
      "outputs": [
        {
          "output_type": "stream",
          "name": "stdout",
          "text": [
            "      Claim_ID  Food_ID  Receiver_ID     Status            Timestamp\n",
            "0            1      164          908    Pending  2025-03-05 05:26:00\n",
            "1            2      353          391  Cancelled  2025-03-11 10:24:00\n",
            "2            3      626          492  Completed  2025-03-21 00:59:00\n",
            "3            4       61          933  Cancelled  2025-03-04 09:08:00\n",
            "4            5      345          229    Pending  2025-03-14 15:17:00\n",
            "...        ...      ...          ...        ...                  ...\n",
            "997        998      832          967  Cancelled  2025-03-13 18:00:00\n",
            "998        999      917           90  Completed  2025-03-01 15:31:00\n",
            "999       1000      596          950  Cancelled  2025-03-13 12:51:00\n",
            "1000      1001     1001         1001    Pending      2025-08-20 7:30\n",
            "1001      1002     1002         1002  Completed     2025-08-20 10:30\n",
            "\n",
            "[1002 rows x 5 columns]\n"
          ]
        }
      ]
    },
    {
      "cell_type": "code",
      "source": [
        "# UPDATE\n",
        "update_record(\"claims\", {\"Status\": \"Completed\"}, \"Claim_ID=1001\")"
      ],
      "metadata": {
        "colab": {
          "base_uri": "https://localhost:8080/"
        },
        "id": "nMv7p4LF45yZ",
        "outputId": "6375a022-99d0-430e-a0ea-b85963b2cac4"
      },
      "execution_count": 89,
      "outputs": [
        {
          "output_type": "stream",
          "name": "stdout",
          "text": [
            " Record(s) updated in claims!\n"
          ]
        }
      ]
    },
    {
      "cell_type": "code",
      "source": [
        "# READ all\n",
        "print(read_records(\"claims\"))"
      ],
      "metadata": {
        "colab": {
          "base_uri": "https://localhost:8080/"
        },
        "id": "1jmFYarr5Iba",
        "outputId": "a2bde355-c761-4a03-a93f-6cbfc3aad77e"
      },
      "execution_count": 90,
      "outputs": [
        {
          "output_type": "stream",
          "name": "stdout",
          "text": [
            "      Claim_ID  Food_ID  Receiver_ID     Status            Timestamp\n",
            "0            1      164          908    Pending  2025-03-05 05:26:00\n",
            "1            2      353          391  Cancelled  2025-03-11 10:24:00\n",
            "2            3      626          492  Completed  2025-03-21 00:59:00\n",
            "3            4       61          933  Cancelled  2025-03-04 09:08:00\n",
            "4            5      345          229    Pending  2025-03-14 15:17:00\n",
            "...        ...      ...          ...        ...                  ...\n",
            "997        998      832          967  Cancelled  2025-03-13 18:00:00\n",
            "998        999      917           90  Completed  2025-03-01 15:31:00\n",
            "999       1000      596          950  Cancelled  2025-03-13 12:51:00\n",
            "1000      1001     1001         1001  Completed      2025-08-20 7:30\n",
            "1001      1002     1002         1002  Completed     2025-08-20 10:30\n",
            "\n",
            "[1002 rows x 5 columns]\n"
          ]
        }
      ]
    },
    {
      "cell_type": "code",
      "source": [
        "# Delete\n",
        "delete_record(\"claims\", \"Claim_ID=1002\")"
      ],
      "metadata": {
        "colab": {
          "base_uri": "https://localhost:8080/"
        },
        "id": "Kt09pKWh5KEk",
        "outputId": "b4627c78-c896-419b-9fff-ce6e4761e855"
      },
      "execution_count": 91,
      "outputs": [
        {
          "output_type": "stream",
          "name": "stdout",
          "text": [
            " Record(s) deleted from claims!\n"
          ]
        }
      ]
    },
    {
      "cell_type": "code",
      "source": [
        "# READ all\n",
        "print(read_records(\"claims\"))"
      ],
      "metadata": {
        "colab": {
          "base_uri": "https://localhost:8080/"
        },
        "id": "gtejMqRM5QNU",
        "outputId": "d15aef64-336d-4b0e-c519-985a43531887"
      },
      "execution_count": 92,
      "outputs": [
        {
          "output_type": "stream",
          "name": "stdout",
          "text": [
            "      Claim_ID  Food_ID  Receiver_ID     Status            Timestamp\n",
            "0            1      164          908    Pending  2025-03-05 05:26:00\n",
            "1            2      353          391  Cancelled  2025-03-11 10:24:00\n",
            "2            3      626          492  Completed  2025-03-21 00:59:00\n",
            "3            4       61          933  Cancelled  2025-03-04 09:08:00\n",
            "4            5      345          229    Pending  2025-03-14 15:17:00\n",
            "...        ...      ...          ...        ...                  ...\n",
            "996        997      980          746  Cancelled  2025-03-17 22:04:00\n",
            "997        998      832          967  Cancelled  2025-03-13 18:00:00\n",
            "998        999      917           90  Completed  2025-03-01 15:31:00\n",
            "999       1000      596          950  Cancelled  2025-03-13 12:51:00\n",
            "1000      1001     1001         1001  Completed      2025-08-20 7:30\n",
            "\n",
            "[1001 rows x 5 columns]\n"
          ]
        }
      ]
    }
  ],
  "metadata": {
    "colab": {
      "provenance": []
    },
    "kernelspec": {
      "display_name": "Python 3",
      "name": "python3"
    },
    "language_info": {
      "name": "python"
    }
  },
  "nbformat": 4,
  "nbformat_minor": 0
}